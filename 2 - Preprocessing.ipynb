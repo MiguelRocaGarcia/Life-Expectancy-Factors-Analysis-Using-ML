{
 "cells": [
  {
   "cell_type": "code",
   "execution_count": 1,
   "id": "included-hollywood",
   "metadata": {},
   "outputs": [],
   "source": [
    "# Miguel Roca García"
   ]
  },
  {
   "cell_type": "markdown",
   "id": "certified-academy",
   "metadata": {},
   "source": [
    "**TO DO:**\n",
    "- Investigar recomendaciones, pautas y estrategias para un correcto preprocesamiento de un dataset\n",
    "- Investigar todas los modelos de regresión y diferentes aproximaciones que se pueden realizar\n",
    "- Decisión de todos los algoritmos vamos a aplicar\n",
    "- Hacer árbol de decisión para registrar todas las posibles pruebas a realizar\n",
    "- Investigar Power BI y Redes Neurales + Deep Learning"
   ]
  },
  {
   "cell_type": "markdown",
   "id": "pressed-moral",
   "metadata": {},
   "source": [
    "**TO DO Estructurado:**\n",
    "* Análisis de datos:\n",
    "  - Gráficos, estadísticas, correlaciones entre características (Pensar si usar Power BI)\n",
    "\n",
    "* Preprocesamiento de datos:\n",
    "  - Decidir cómo será el conjunto de datos unificado(qué años, qué países, etc)\n",
    "  - Averiguar cómo calcular o estimar datos desconocidos\n",
    "  \n",
    "* Transformaciones:\n",
    "  - Decidir qué transformaciones aplicar al dataset(investigar recomendaciones). Rellenar NaN, normalizar, crear nuevas columnas como tipo de país, etc.\n",
    "  - Aplicar transformaciones. Como puede que nos interese hacer diferentes transformaciones de preprocesado, ir guardando cada una en un CSV en GitHub para tenerlos almacenados e ir probando cada posible preprocesamiento \n",
    "\n",
    "* Aplicar algoritmos:\n",
    "  - Probar regresiones: Lineal, Polinómica, Ridge, Lasso, Elastic-Net y KNN\n",
    "  - Investigar otros posibles modelos de ML aplicables como reducción de dimensionalidad o bagging\n",
    "  - Redes Neuronales y Deep Learning\n",
    "* Análisis de resultados\n",
    "* Predicción 2020 y otras predicciones\n",
    "* Comparación COVID\n",
    "* Conclusiones"
   ]
  },
  {
   "cell_type": "markdown",
   "id": "bacterial-painting",
   "metadata": {},
   "source": [
    "**Plan**\n",
    "1. Decidir qué filas de los DF nos interesan\n",
    "2. Rellenar NaNs: \n",
    "    - Media \n",
    "    - Mediana\n",
    "    - Interpolar y extrapolar\n",
    "    - KNN"
   ]
  },
  {
   "cell_type": "code",
   "execution_count": null,
   "id": "young-reaction",
   "metadata": {},
   "outputs": [],
   "source": []
  },
  {
   "cell_type": "code",
   "execution_count": null,
   "id": "healthy-completion",
   "metadata": {},
   "outputs": [],
   "source": []
  },
  {
   "cell_type": "code",
   "execution_count": null,
   "id": "appointed-macintosh",
   "metadata": {},
   "outputs": [],
   "source": []
  },
  {
   "cell_type": "code",
   "execution_count": null,
   "id": "documented-roller",
   "metadata": {},
   "outputs": [],
   "source": []
  },
  {
   "cell_type": "code",
   "execution_count": null,
   "id": "nuclear-killer",
   "metadata": {},
   "outputs": [],
   "source": []
  },
  {
   "cell_type": "code",
   "execution_count": null,
   "id": "lightweight-delhi",
   "metadata": {},
   "outputs": [],
   "source": []
  },
  {
   "cell_type": "code",
   "execution_count": null,
   "id": "pursuant-rabbit",
   "metadata": {},
   "outputs": [],
   "source": []
  },
  {
   "cell_type": "code",
   "execution_count": null,
   "id": "elect-handy",
   "metadata": {},
   "outputs": [],
   "source": []
  },
  {
   "cell_type": "code",
   "execution_count": null,
   "id": "abroad-earth",
   "metadata": {},
   "outputs": [],
   "source": []
  }
 ],
 "metadata": {
  "kernelspec": {
   "display_name": "Python 3",
   "language": "python",
   "name": "python3"
  },
  "language_info": {
   "codemirror_mode": {
    "name": "ipython",
    "version": 3
   },
   "file_extension": ".py",
   "mimetype": "text/x-python",
   "name": "python",
   "nbconvert_exporter": "python",
   "pygments_lexer": "ipython3",
   "version": "3.9.2"
  }
 },
 "nbformat": 4,
 "nbformat_minor": 5
}
