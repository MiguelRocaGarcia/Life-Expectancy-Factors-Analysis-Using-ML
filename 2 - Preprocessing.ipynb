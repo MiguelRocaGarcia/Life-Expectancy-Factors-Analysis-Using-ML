{
 "cells": [
  {
   "cell_type": "code",
   "execution_count": 1,
   "id": "cutting-nightlife",
   "metadata": {},
   "outputs": [],
   "source": [
    "# Miguel Roca García"
   ]
  },
  {
   "cell_type": "markdown",
   "id": "distant-second",
   "metadata": {},
   "source": [
    "**TO DO:**\n",
    "- Investigar recomendaciones, pautas y estrategias para un correcto preprocesamiento de un dataset\n",
    "- Investigar todas los modelos de regresión y diferentes aproximaciones que se pueden realizar\n",
    "- Decisión de todos los algoritmos vamos a aplicar\n",
    "- Hacer árbol de decisión para registrar todas las posibles pruebas a realizar\n",
    "- Investigar Power BI y Redes Neurales + Deep Learning"
   ]
  },
  {
   "cell_type": "markdown",
   "id": "verified-column",
   "metadata": {},
   "source": [
    "**TO DO Estructurado:**\n",
    "* Unificación de datos:\n",
    "  - Decidir cómo será el conjunto de datos unificado(qué años, qué países, etc)\n",
    "  - Averiguar cómo calcular o estimar datos desconocidos\n",
    "  - Crear Dataframe unificado y guardarlo en un CSV en GitHub. Pensar si podría usar Talend Open Studio\n",
    "  \n",
    "* Análisis de datos:\n",
    "  - Gráficos, estadísticas, correlaciones entre características (Pensar si usar Power BI)\n",
    "\n",
    "* Transformaciones:\n",
    "  - Decidir qué transformaciones aplicar al dataset(investigar recomendaciones)\n",
    "  - Aplicar transformaciones. Como puede que nos interese hacer diferentes transformaciones de preprocesado, ir guardando cada una en un CSV en GitHub para tenerlos almacenados e ir probando cada posible preprocesamiento \n",
    "\n",
    "* Aplicar algoritmos:\n",
    "  - Probar regresiones: Lineal, Polinómica, Ridge, Lasso, Elastic-Net y KNN\n",
    "  - Investigar otros posibles modelos de ML aplicables como reducción de dimensionalidad o bagging\n",
    "  - Redes Neuronales y Deep Learning\n",
    "* Análisis de resultados\n",
    "* Predicción 2020 y otras predicciones\n",
    "* Comparación COVID\n",
    "* Conclusiones"
   ]
  },
  {
   "cell_type": "markdown",
   "id": "insured-guest",
   "metadata": {},
   "source": [
    "**Plan**\n",
    "1. Decidir qué filas de los DF nos interesan\n",
    "2. Estimar valores incompletos"
   ]
  },
  {
   "cell_type": "code",
   "execution_count": null,
   "id": "divided-render",
   "metadata": {},
   "outputs": [],
   "source": []
  },
  {
   "cell_type": "code",
   "execution_count": null,
   "id": "front-enhancement",
   "metadata": {},
   "outputs": [],
   "source": []
  },
  {
   "cell_type": "code",
   "execution_count": null,
   "id": "together-initial",
   "metadata": {},
   "outputs": [],
   "source": []
  },
  {
   "cell_type": "code",
   "execution_count": null,
   "id": "typical-switzerland",
   "metadata": {},
   "outputs": [],
   "source": []
  },
  {
   "cell_type": "code",
   "execution_count": null,
   "id": "hungry-bulgaria",
   "metadata": {},
   "outputs": [],
   "source": []
  },
  {
   "cell_type": "code",
   "execution_count": null,
   "id": "requested-warehouse",
   "metadata": {},
   "outputs": [],
   "source": []
  },
  {
   "cell_type": "code",
   "execution_count": null,
   "id": "trying-primary",
   "metadata": {},
   "outputs": [],
   "source": []
  },
  {
   "cell_type": "code",
   "execution_count": null,
   "id": "talented-amber",
   "metadata": {},
   "outputs": [],
   "source": []
  },
  {
   "cell_type": "code",
   "execution_count": null,
   "id": "documentary-willow",
   "metadata": {},
   "outputs": [],
   "source": []
  }
 ],
 "metadata": {
  "kernelspec": {
   "display_name": "Python 3",
   "language": "python",
   "name": "python3"
  },
  "language_info": {
   "codemirror_mode": {
    "name": "ipython",
    "version": 3
   },
   "file_extension": ".py",
   "mimetype": "text/x-python",
   "name": "python",
   "nbconvert_exporter": "python",
   "pygments_lexer": "ipython3",
   "version": "3.9.2"
  }
 },
 "nbformat": 4,
 "nbformat_minor": 5
}
