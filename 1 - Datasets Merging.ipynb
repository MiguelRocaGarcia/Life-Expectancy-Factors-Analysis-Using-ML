{
 "cells": [
  {
   "cell_type": "markdown",
   "metadata": {},
   "source": [
    "- Antes de aplicar código solo he cambiado el nombre de las cabeceras para unificarlos\n",
    "- He unido los csvs de life expectancy de Our World in data añadiendo la columna gender\n",
    "- en la extracion analie algunos ficheros que descarté al estar incompletos oo no servir pa na. He convertido los csvs a dfs para las transformaciones\n",
    "- Mergeo en 7BirthAttendedBySkilledPersonal los datos de la WHO(dado en Kaggle) y World Bank para ampliar. 151 valores no coinciden asi que hago su media\n",
    "- He descargado 16Cardiovascular de la WHO para que fuera más completo y le he cambiado el formato para que encaje con el resto\n",
    "- Otras transformaciones: Separar genero en Life expectancy y eliminar both sexes en neonatal\n",
    "- En 26AirPollution separamos en varios csvs en función de la disease y en si es o no age -standarized\n",
    "- En donde hay Area(36,37,38,24,25), separamos en varios csvs: Total, rural, urban\n",
    "- Cambiar el nombre de las cabeceras de los csv para que queden unificados\n",
    "- Explicar conjunto de datos de partida y el formato (csv) en que estaban, asignandole un número a cada uno\n",
    "- He filtrado los datasets menos relevantes\n",
    "- He hecho un git para importarlos a jupyter\n",
    "- He tratado los datos para definir correctamente un DataFrame para cada csv separando algunos en varios DFs, eliminando columnas innecesarias, separando aquellas columnas que dan un intervalo de confianza para el valor cambiando los tipos de datos y renombrando las columnas."
   ]
  },
  {
   "cell_type": "code",
   "execution_count": 1,
   "metadata": {
    "id": "uMbdbZ7uPr_b"
   },
   "outputs": [],
   "source": [
    "# Miguel Roca García"
   ]
  },
  {
   "cell_type": "markdown",
   "metadata": {},
   "source": [
    "**Unificación de varios CSVs a uno único**"
   ]
  },
  {
   "cell_type": "markdown",
   "metadata": {
    "id": "rQtoXn8-XoMR"
   },
   "source": [
    "# Importar librerías"
   ]
  },
  {
   "cell_type": "code",
   "execution_count": 2,
   "metadata": {
    "id": "hKuvb_c9XrKo"
   },
   "outputs": [],
   "source": [
    "import numpy as np\n",
    "import pandas as pd\n",
    "pd.options.mode.chained_assignment = None #Para evitar warnings\n",
    "import urllib.request\n",
    "import re\n",
    "import ast\n",
    "pd.set_option(\"display.max_columns\", None)#Para mostrar todas las columnas"
   ]
  },
  {
   "cell_type": "markdown",
   "metadata": {
    "id": "GXK4IhAdXrZ4"
   },
   "source": [
    "# Importar datos"
   ]
  },
  {
   "cell_type": "code",
   "execution_count": 3,
   "metadata": {
    "id": "vXD0S3hmiq_T"
   },
   "outputs": [],
   "source": [
    "#Importamos de GitHub un JSON con los nombres de todos los CSV con los datos y sus futuros nombres de columna en el DataFrame\n",
    "namesIndicatorJson = urllib.request.urlopen('https://raw.githubusercontent.com/MiguelRocaGarcia/DatasetTFG/master/IndicatorsDataFrameNames.json')\n",
    "namesJson = namesIndicatorJson.read().decode()\n",
    "indicatorsNames = ast.literal_eval(namesJson)"
   ]
  },
  {
   "cell_type": "code",
   "execution_count": 10,
   "metadata": {
    "id": "OdSMjByrk7Gt"
   },
   "outputs": [],
   "source": [
    "#Importamos los CSVs\n",
    "dfs = {}\n",
    "for name in indicatorsNames.keys():\n",
    "    dfs[name] = pd.read_csv(f'https://raw.githubusercontent.com/MiguelRocaGarcia/DatasetTFG/master/{name}.csv', sep=',')"
   ]
  },
  {
   "cell_type": "code",
   "execution_count": 11,
   "metadata": {},
   "outputs": [
    {
     "data": {
      "text/html": [
       "<div>\n",
       "<style scoped>\n",
       "    .dataframe tbody tr th:only-of-type {\n",
       "        vertical-align: middle;\n",
       "    }\n",
       "\n",
       "    .dataframe tbody tr th {\n",
       "        vertical-align: top;\n",
       "    }\n",
       "\n",
       "    .dataframe thead th {\n",
       "        text-align: right;\n",
       "    }\n",
       "</style>\n",
       "<table border=\"1\" class=\"dataframe\">\n",
       "  <thead>\n",
       "    <tr style=\"text-align: right;\">\n",
       "      <th></th>\n",
       "      <th>Indicator</th>\n",
       "      <th>Country</th>\n",
       "      <th>Year</th>\n",
       "      <th>Value</th>\n",
       "    </tr>\n",
       "  </thead>\n",
       "  <tbody>\n",
       "    <tr>\n",
       "      <th>0</th>\n",
       "      <td>Population, total</td>\n",
       "      <td>Afghanistan</td>\n",
       "      <td>1990.0</td>\n",
       "      <td>12412308</td>\n",
       "    </tr>\n",
       "    <tr>\n",
       "      <th>1</th>\n",
       "      <td>Population, total</td>\n",
       "      <td>Afghanistan</td>\n",
       "      <td>1991.0</td>\n",
       "      <td>13299017</td>\n",
       "    </tr>\n",
       "    <tr>\n",
       "      <th>2</th>\n",
       "      <td>Population, total</td>\n",
       "      <td>Afghanistan</td>\n",
       "      <td>1992.0</td>\n",
       "      <td>14485546</td>\n",
       "    </tr>\n",
       "    <tr>\n",
       "      <th>3</th>\n",
       "      <td>Population, total</td>\n",
       "      <td>Afghanistan</td>\n",
       "      <td>1993.0</td>\n",
       "      <td>15816603</td>\n",
       "    </tr>\n",
       "    <tr>\n",
       "      <th>4</th>\n",
       "      <td>Population, total</td>\n",
       "      <td>Afghanistan</td>\n",
       "      <td>1994.0</td>\n",
       "      <td>17075727</td>\n",
       "    </tr>\n",
       "    <tr>\n",
       "      <th>...</th>\n",
       "      <td>...</td>\n",
       "      <td>...</td>\n",
       "      <td>...</td>\n",
       "      <td>...</td>\n",
       "    </tr>\n",
       "    <tr>\n",
       "      <th>7920</th>\n",
       "      <td>NaN</td>\n",
       "      <td>NaN</td>\n",
       "      <td>NaN</td>\n",
       "      <td>NaN</td>\n",
       "    </tr>\n",
       "    <tr>\n",
       "      <th>7921</th>\n",
       "      <td>NaN</td>\n",
       "      <td>NaN</td>\n",
       "      <td>NaN</td>\n",
       "      <td>NaN</td>\n",
       "    </tr>\n",
       "    <tr>\n",
       "      <th>7922</th>\n",
       "      <td>NaN</td>\n",
       "      <td>NaN</td>\n",
       "      <td>NaN</td>\n",
       "      <td>NaN</td>\n",
       "    </tr>\n",
       "    <tr>\n",
       "      <th>7923</th>\n",
       "      <td>Data from database: World Development Indicators</td>\n",
       "      <td>NaN</td>\n",
       "      <td>NaN</td>\n",
       "      <td>NaN</td>\n",
       "    </tr>\n",
       "    <tr>\n",
       "      <th>7924</th>\n",
       "      <td>Last Updated: 03/19/2021</td>\n",
       "      <td>NaN</td>\n",
       "      <td>NaN</td>\n",
       "      <td>NaN</td>\n",
       "    </tr>\n",
       "  </tbody>\n",
       "</table>\n",
       "<p>7925 rows × 4 columns</p>\n",
       "</div>"
      ],
      "text/plain": [
       "                                             Indicator      Country    Year  \\\n",
       "0                                    Population, total  Afghanistan  1990.0   \n",
       "1                                    Population, total  Afghanistan  1991.0   \n",
       "2                                    Population, total  Afghanistan  1992.0   \n",
       "3                                    Population, total  Afghanistan  1993.0   \n",
       "4                                    Population, total  Afghanistan  1994.0   \n",
       "...                                                ...          ...     ...   \n",
       "7920                                               NaN          NaN     NaN   \n",
       "7921                                               NaN          NaN     NaN   \n",
       "7922                                               NaN          NaN     NaN   \n",
       "7923  Data from database: World Development Indicators          NaN     NaN   \n",
       "7924                          Last Updated: 03/19/2021          NaN     NaN   \n",
       "\n",
       "         Value  \n",
       "0     12412308  \n",
       "1     13299017  \n",
       "2     14485546  \n",
       "3     15816603  \n",
       "4     17075727  \n",
       "...        ...  \n",
       "7920       NaN  \n",
       "7921       NaN  \n",
       "7922       NaN  \n",
       "7923       NaN  \n",
       "7924       NaN  \n",
       "\n",
       "[7925 rows x 4 columns]"
      ]
     },
     "execution_count": 11,
     "metadata": {},
     "output_type": "execute_result"
    }
   ],
   "source": [
    "dfs['48_TotalPopulation']"
   ]
  },
  {
   "cell_type": "markdown",
   "metadata": {
    "id": "yV1rxygWgGVf"
   },
   "source": [
    "# Transformaciones"
   ]
  },
  {
   "cell_type": "code",
   "execution_count": 5,
   "metadata": {
    "id": "Te3mnf3en4b-"
   },
   "outputs": [],
   "source": [
    "# Eliminamos la columna Indicator\n",
    "for df in dfs.values():\n",
    "    if 'Indicator' in df.columns:\n",
    "        df.drop('Indicator', axis=1, inplace=True)   "
   ]
  },
  {
   "cell_type": "code",
   "execution_count": 6,
   "metadata": {
    "id": "mypsbenb7Xa3"
   },
   "outputs": [],
   "source": [
    "#Separamos los valores de las columnas estimados con su intervalo de confianza\n",
    "for dfName in dfs.keys():\n",
    "    if '[' in str(dfs[dfName]['Value'][0]):\n",
    "        dfs[dfName]['Low Value'] = dfs[dfName]['Value'].apply(lambda x: re.search('\\[(.*?)-',x).group(1))\n",
    "        dfs[dfName]['High Value'] = dfs[dfName]['Value'].apply(lambda x: re.search('-(.*?)\\]',x).group(1))\n",
    "        dfs[dfName]['Value'] = dfs[dfName]['Value'].apply(lambda x: re.search('(.*?)\\[',x).group(1))"
   ]
  },
  {
   "cell_type": "code",
   "execution_count": 7,
   "metadata": {},
   "outputs": [],
   "source": [
    "#Número de filas antes de la transformación\n",
    "shapes = {}\n",
    "for name, df in sorted(dfs.items()):\n",
    "    shapes[name] = df.shape[0]"
   ]
  },
  {
   "cell_type": "code",
   "execution_count": 8,
   "metadata": {
    "id": "i7hpemLOnNEO"
   },
   "outputs": [
    {
     "name": "stdout",
     "output_type": "stream",
     "text": [
      "1_LifeExpectancyAtBirth\n",
      "6_MaternalMortalityRatio\n",
      "7_BirthAttendedBySkilledPersonal\n",
      "8_InfantMortalityRate\n",
      "9_NeonatalMortalityRate\n",
      "10_Under5MortalityRate\n",
      "11_IncedenceOfMalaria\n",
      "12_IncedenceOfTuberculosis\n",
      "13_HepatitusBsurfaceAntigen\n",
      "14_InterventionAgainstNTDs\n",
      "16_CardiovascularDyingProbability30_70\n",
      "17_SuicideRates\n",
      "18_AlcoholSubstanceAbuse\n",
      "19_RoadTrafficDeaths\n",
      "20_ReproductiveAgeWomen\n",
      "21_AdolescentBirthRate\n",
      "22_UniversalHealthCareCoverage\n",
      "24-1_Population10PercentageSDGTotal\n",
      "24-2_Population10PercentageSDGUrban\n",
      "24-3_Population10PercentageSDGRural\n",
      "25-1_Population25PercentageSDGTotal\n",
      "25-2_Population25PercentageSDGUrban\n",
      "25-3_Population25PercentageSDGRural\n",
      "26-1-1_AirPollutionDeathRateStroke\n",
      "26-1-2_AirPollutionDeathRateStrokeAgeStandardized\n",
      "26-2-1_AirPollutionDeathRateIschaemicHeartDisease\n",
      "26-2-2_AirPollutionDeathRateIschaemicHeartDiseaseAgeStandardized\n",
      "26-3-1_AirPollutionDeathRateLowerRespiratoryInfections\n",
      "26-3-2_AirPollutionDeathRateLowerRespiratoryInfectionsAgeStandardized\n",
      "26-4-1_AirPollutionDeathRateChronicObstructivePulmonaryDisease\n",
      "26-4-2_AirPollutionDeathRateChronicObstructivePulmonaryDiseaseAgeStandardized\n",
      "26-5-1_AirPollutionDeathRateTotal\n",
      "26-5-2_AirPollutionDeathRateTotalAgeStandardized\n",
      "26-6-1_AirPollutionDeathRateTracheaBronchusLungCancers\n",
      "26-6-2_AirPollutionDeathRateTracheaBronchusLungCancersAgeStandardized\n",
      "27_MortalityRateUnsafeWash\n",
      "28_MortalityRatePoisoning\n",
      "29_TobaccoPrevalence\n",
      "30_MedicalDoctors\n",
      "31_NursingAndMidwife\n",
      "32_Dentists\n",
      "33_Pharmacists\n",
      "35_BasicDrinkingWaterServices\n",
      "36-1_BasicSanitizationServicesTotal\n",
      "36-2_BasicSanitizationServicesUrban\n",
      "36-3_BasicSanitizationServicesRural\n",
      "37-1_SafelySanitizationTotal\n",
      "37-2_SafelySanitizationUrban\n",
      "37-3_SafelySanitizationRural\n",
      "38-1_BasicHandWashingTotal\n",
      "38-2_BasicHandWashingUrban\n",
      "38-3_BasicHandWashingRural\n",
      "39_CleanFuelAndTech\n",
      "40_BirthRate\n",
      "41_BattleRelatedDeaths\n",
      "42_InjuryDeathsPercentage\n",
      "43_DeathRate\n",
      "44_GDPperCapita\n",
      "45-1_PovertyGap1.90\n",
      "45-2_PovertyGap3.20\n",
      "45-3_PovertyGap5.50\n",
      "46_IcomePerCapita\n",
      "47-1_PopulationAges0-14\n",
      "47-2_PopulationAges15-64\n",
      "47-3_PopulationAges65+\n",
      "47-4_PopulationAges65-69\n",
      "47-5_PopulationAges70-74\n",
      "47-6_PopulationAges75-79\n",
      "47-7_PopulationAges80+\n",
      "48_TotalPopulation\n"
     ]
    },
    {
     "ename": "KeyError",
     "evalue": "'Year'",
     "output_type": "error",
     "traceback": [
      "\u001b[1;31m---------------------------------------------------------------------------\u001b[0m",
      "\u001b[1;31mKeyError\u001b[0m                                  Traceback (most recent call last)",
      "\u001b[1;32mc:\\users\\migue\\appdata\\local\\programs\\python\\python39\\lib\\site-packages\\pandas\\core\\indexes\\base.py\u001b[0m in \u001b[0;36mget_loc\u001b[1;34m(self, key, method, tolerance)\u001b[0m\n\u001b[0;32m   3079\u001b[0m             \u001b[1;32mtry\u001b[0m\u001b[1;33m:\u001b[0m\u001b[1;33m\u001b[0m\u001b[1;33m\u001b[0m\u001b[0m\n\u001b[1;32m-> 3080\u001b[1;33m                 \u001b[1;32mreturn\u001b[0m \u001b[0mself\u001b[0m\u001b[1;33m.\u001b[0m\u001b[0m_engine\u001b[0m\u001b[1;33m.\u001b[0m\u001b[0mget_loc\u001b[0m\u001b[1;33m(\u001b[0m\u001b[0mcasted_key\u001b[0m\u001b[1;33m)\u001b[0m\u001b[1;33m\u001b[0m\u001b[1;33m\u001b[0m\u001b[0m\n\u001b[0m\u001b[0;32m   3081\u001b[0m             \u001b[1;32mexcept\u001b[0m \u001b[0mKeyError\u001b[0m \u001b[1;32mas\u001b[0m \u001b[0merr\u001b[0m\u001b[1;33m:\u001b[0m\u001b[1;33m\u001b[0m\u001b[1;33m\u001b[0m\u001b[0m\n",
      "\u001b[1;32mpandas\\_libs\\index.pyx\u001b[0m in \u001b[0;36mpandas._libs.index.IndexEngine.get_loc\u001b[1;34m()\u001b[0m\n",
      "\u001b[1;32mpandas\\_libs\\index.pyx\u001b[0m in \u001b[0;36mpandas._libs.index.IndexEngine.get_loc\u001b[1;34m()\u001b[0m\n",
      "\u001b[1;32mpandas\\_libs\\hashtable_class_helper.pxi\u001b[0m in \u001b[0;36mpandas._libs.hashtable.PyObjectHashTable.get_item\u001b[1;34m()\u001b[0m\n",
      "\u001b[1;32mpandas\\_libs\\hashtable_class_helper.pxi\u001b[0m in \u001b[0;36mpandas._libs.hashtable.PyObjectHashTable.get_item\u001b[1;34m()\u001b[0m\n",
      "\u001b[1;31mKeyError\u001b[0m: 'Year'",
      "\nThe above exception was the direct cause of the following exception:\n",
      "\u001b[1;31mKeyError\u001b[0m                                  Traceback (most recent call last)",
      "\u001b[1;32m<ipython-input-8-a2409950aca3>\u001b[0m in \u001b[0;36m<module>\u001b[1;34m\u001b[0m\n\u001b[0;32m      3\u001b[0m     \u001b[0mprint\u001b[0m\u001b[1;33m(\u001b[0m\u001b[0mdfName\u001b[0m\u001b[1;33m)\u001b[0m\u001b[1;33m\u001b[0m\u001b[1;33m\u001b[0m\u001b[0m\n\u001b[0;32m      4\u001b[0m     \u001b[0mdfs\u001b[0m\u001b[1;33m[\u001b[0m\u001b[0mdfName\u001b[0m\u001b[1;33m]\u001b[0m\u001b[1;33m.\u001b[0m\u001b[0mdropna\u001b[0m\u001b[1;33m(\u001b[0m\u001b[0minplace\u001b[0m\u001b[1;33m=\u001b[0m\u001b[1;32mTrue\u001b[0m\u001b[1;33m)\u001b[0m  \u001b[1;31m#Eliminamos los valores NaN(Necesario para que no convierta Year a float)\u001b[0m\u001b[1;33m\u001b[0m\u001b[1;33m\u001b[0m\u001b[0m\n\u001b[1;32m----> 5\u001b[1;33m     \u001b[0mdfs\u001b[0m\u001b[1;33m[\u001b[0m\u001b[0mdfName\u001b[0m\u001b[1;33m]\u001b[0m\u001b[1;33m[\u001b[0m\u001b[1;34m'Year'\u001b[0m\u001b[1;33m]\u001b[0m \u001b[1;33m=\u001b[0m \u001b[0mpd\u001b[0m\u001b[1;33m.\u001b[0m\u001b[0mto_numeric\u001b[0m\u001b[1;33m(\u001b[0m\u001b[0mdfs\u001b[0m\u001b[1;33m[\u001b[0m\u001b[0mdfName\u001b[0m\u001b[1;33m]\u001b[0m\u001b[1;33m[\u001b[0m\u001b[1;34m'Year'\u001b[0m\u001b[1;33m]\u001b[0m\u001b[1;33m,\u001b[0m \u001b[0merrors\u001b[0m\u001b[1;33m=\u001b[0m\u001b[1;34m'coerce'\u001b[0m\u001b[1;33m,\u001b[0m\u001b[0mdowncast\u001b[0m\u001b[1;33m=\u001b[0m\u001b[1;34m'integer'\u001b[0m\u001b[1;33m)\u001b[0m \u001b[1;31m#Convertimos Year a integer\u001b[0m\u001b[1;33m\u001b[0m\u001b[1;33m\u001b[0m\u001b[0m\n\u001b[0m\u001b[0;32m      6\u001b[0m     \u001b[0mdfs\u001b[0m\u001b[1;33m[\u001b[0m\u001b[0mdfName\u001b[0m\u001b[1;33m]\u001b[0m\u001b[1;33m[\u001b[0m\u001b[1;34m'Value'\u001b[0m\u001b[1;33m]\u001b[0m \u001b[1;33m=\u001b[0m \u001b[0mpd\u001b[0m\u001b[1;33m.\u001b[0m\u001b[0mto_numeric\u001b[0m\u001b[1;33m(\u001b[0m\u001b[0mdfs\u001b[0m\u001b[1;33m[\u001b[0m\u001b[0mdfName\u001b[0m\u001b[1;33m]\u001b[0m\u001b[1;33m[\u001b[0m\u001b[1;34m'Value'\u001b[0m\u001b[1;33m]\u001b[0m\u001b[1;33m,\u001b[0m \u001b[0merrors\u001b[0m\u001b[1;33m=\u001b[0m\u001b[1;34m'coerce'\u001b[0m\u001b[1;33m)\u001b[0m \u001b[1;31m#Convertimos value a numérico\u001b[0m\u001b[1;33m\u001b[0m\u001b[1;33m\u001b[0m\u001b[0m\n\u001b[0;32m      7\u001b[0m     \u001b[1;32mif\u001b[0m \u001b[1;33m(\u001b[0m\u001b[1;34m'Low Value'\u001b[0m \u001b[1;32min\u001b[0m \u001b[0mdfs\u001b[0m\u001b[1;33m[\u001b[0m\u001b[0mdfName\u001b[0m\u001b[1;33m]\u001b[0m\u001b[1;33m.\u001b[0m\u001b[0mcolumns\u001b[0m\u001b[1;33m)\u001b[0m\u001b[1;33m:\u001b[0m\u001b[1;33m\u001b[0m\u001b[1;33m\u001b[0m\u001b[0m\n",
      "\u001b[1;32mc:\\users\\migue\\appdata\\local\\programs\\python\\python39\\lib\\site-packages\\pandas\\core\\frame.py\u001b[0m in \u001b[0;36m__getitem__\u001b[1;34m(self, key)\u001b[0m\n\u001b[0;32m   3022\u001b[0m             \u001b[1;32mif\u001b[0m \u001b[0mself\u001b[0m\u001b[1;33m.\u001b[0m\u001b[0mcolumns\u001b[0m\u001b[1;33m.\u001b[0m\u001b[0mnlevels\u001b[0m \u001b[1;33m>\u001b[0m \u001b[1;36m1\u001b[0m\u001b[1;33m:\u001b[0m\u001b[1;33m\u001b[0m\u001b[1;33m\u001b[0m\u001b[0m\n\u001b[0;32m   3023\u001b[0m                 \u001b[1;32mreturn\u001b[0m \u001b[0mself\u001b[0m\u001b[1;33m.\u001b[0m\u001b[0m_getitem_multilevel\u001b[0m\u001b[1;33m(\u001b[0m\u001b[0mkey\u001b[0m\u001b[1;33m)\u001b[0m\u001b[1;33m\u001b[0m\u001b[1;33m\u001b[0m\u001b[0m\n\u001b[1;32m-> 3024\u001b[1;33m             \u001b[0mindexer\u001b[0m \u001b[1;33m=\u001b[0m \u001b[0mself\u001b[0m\u001b[1;33m.\u001b[0m\u001b[0mcolumns\u001b[0m\u001b[1;33m.\u001b[0m\u001b[0mget_loc\u001b[0m\u001b[1;33m(\u001b[0m\u001b[0mkey\u001b[0m\u001b[1;33m)\u001b[0m\u001b[1;33m\u001b[0m\u001b[1;33m\u001b[0m\u001b[0m\n\u001b[0m\u001b[0;32m   3025\u001b[0m             \u001b[1;32mif\u001b[0m \u001b[0mis_integer\u001b[0m\u001b[1;33m(\u001b[0m\u001b[0mindexer\u001b[0m\u001b[1;33m)\u001b[0m\u001b[1;33m:\u001b[0m\u001b[1;33m\u001b[0m\u001b[1;33m\u001b[0m\u001b[0m\n\u001b[0;32m   3026\u001b[0m                 \u001b[0mindexer\u001b[0m \u001b[1;33m=\u001b[0m \u001b[1;33m[\u001b[0m\u001b[0mindexer\u001b[0m\u001b[1;33m]\u001b[0m\u001b[1;33m\u001b[0m\u001b[1;33m\u001b[0m\u001b[0m\n",
      "\u001b[1;32mc:\\users\\migue\\appdata\\local\\programs\\python\\python39\\lib\\site-packages\\pandas\\core\\indexes\\base.py\u001b[0m in \u001b[0;36mget_loc\u001b[1;34m(self, key, method, tolerance)\u001b[0m\n\u001b[0;32m   3080\u001b[0m                 \u001b[1;32mreturn\u001b[0m \u001b[0mself\u001b[0m\u001b[1;33m.\u001b[0m\u001b[0m_engine\u001b[0m\u001b[1;33m.\u001b[0m\u001b[0mget_loc\u001b[0m\u001b[1;33m(\u001b[0m\u001b[0mcasted_key\u001b[0m\u001b[1;33m)\u001b[0m\u001b[1;33m\u001b[0m\u001b[1;33m\u001b[0m\u001b[0m\n\u001b[0;32m   3081\u001b[0m             \u001b[1;32mexcept\u001b[0m \u001b[0mKeyError\u001b[0m \u001b[1;32mas\u001b[0m \u001b[0merr\u001b[0m\u001b[1;33m:\u001b[0m\u001b[1;33m\u001b[0m\u001b[1;33m\u001b[0m\u001b[0m\n\u001b[1;32m-> 3082\u001b[1;33m                 \u001b[1;32mraise\u001b[0m \u001b[0mKeyError\u001b[0m\u001b[1;33m(\u001b[0m\u001b[0mkey\u001b[0m\u001b[1;33m)\u001b[0m \u001b[1;32mfrom\u001b[0m \u001b[0merr\u001b[0m\u001b[1;33m\u001b[0m\u001b[1;33m\u001b[0m\u001b[0m\n\u001b[0m\u001b[0;32m   3083\u001b[0m \u001b[1;33m\u001b[0m\u001b[0m\n\u001b[0;32m   3084\u001b[0m         \u001b[1;32mif\u001b[0m \u001b[0mtolerance\u001b[0m \u001b[1;32mis\u001b[0m \u001b[1;32mnot\u001b[0m \u001b[1;32mNone\u001b[0m\u001b[1;33m:\u001b[0m\u001b[1;33m\u001b[0m\u001b[1;33m\u001b[0m\u001b[0m\n",
      "\u001b[1;31mKeyError\u001b[0m: 'Year'"
     ]
    }
   ],
   "source": [
    "#Cambiar tipos de datos: de str a int o float y eliminar los NaN\n",
    "for dfName in dfs.keys():\n",
    "    dfs[dfName].dropna(inplace=True)  #Eliminamos los valores NaN(Necesario para que no convierta Year a float)\n",
    "    dfs[dfName]['Year'] = pd.to_numeric(dfs[dfName]['Year'], errors='coerce',downcast='integer') #Convertimos Year a integer\n",
    "    dfs[dfName]['Value'] = pd.to_numeric(dfs[dfName]['Value'], errors='coerce') #Convertimos value a numérico\n",
    "    if ('Low Value' in dfs[dfName].columns):\n",
    "        dfs[dfName]['Low Value'] = pd.to_numeric(dfs[dfName]['Low Value'], errors='coerce')\n",
    "        dfs[dfName]['High Value'] = pd.to_numeric(dfs[dfName]['High Value'], errors='coerce')\n",
    "    dfs[dfName].dropna(inplace=True)  #Eliminamos los valores NaN"
   ]
  },
  {
   "cell_type": "code",
   "execution_count": null,
   "metadata": {},
   "outputs": [],
   "source": [
    "# Número de filas tras la transformación\n",
    "shapesAfter = {}\n",
    "for name, df in sorted(dfs.items()):\n",
    "    shapesAfter[name] = df.shape[0]"
   ]
  },
  {
   "cell_type": "code",
   "execution_count": null,
   "metadata": {},
   "outputs": [],
   "source": [
    "#Filas eliminadas por contener NaN\n",
    "for name in sorted(shapes.keys()):\n",
    "    print(name, ': ', shapes[name] - shapesAfter[name])"
   ]
  },
  {
   "cell_type": "code",
   "execution_count": null,
   "metadata": {
    "colab": {
     "base_uri": "https://localhost:8080/"
    },
    "id": "sQe9pQmqxXTc",
    "outputId": "18f8f91a-98ec-4f6c-b840-47d4d93f4d6a"
   },
   "outputs": [],
   "source": [
    "#Vemos los años disponibles para cada indicador\n",
    "for name, df in sorted(dfs.items()):\n",
    "  if 'Year' in df.columns:\n",
    "    years = df['Year'].unique().tolist()\n",
    "    print(name, '\\n', years)\n",
    "    print()"
   ]
  },
  {
   "cell_type": "code",
   "execution_count": null,
   "metadata": {},
   "outputs": [],
   "source": [
    "#Filtramos por años entre 1900 y 2019\n",
    "for dfName in dfs.keys():\n",
    "    dfs[dfName] = dfs[dfName][(dfs[dfName]['Year'] >= 1990)]"
   ]
  },
  {
   "cell_type": "code",
   "execution_count": null,
   "metadata": {},
   "outputs": [],
   "source": [
    "# Cambiamos los nombres de las columnas para hacerlos más significativos\n",
    "for dfName in dfs.keys():\n",
    "    dfs[dfName].rename(columns={'Value': indicatorsNames[dfName]}, inplace=True)\n",
    "    if('Low Value' in dfs[dfName].columns):\n",
    "        dfs[dfName].rename(columns={'Low Value': f'Low CI Value {indicatorsNames[dfName]}',\n",
    "                                   'High Value': f'High CI Value {indicatorsNames[dfName]}'}, inplace=True)"
   ]
  },
  {
   "cell_type": "markdown",
   "metadata": {},
   "source": [
    "Para añadir un nuevo CSV, solo hay que subirlo al GitHub y añadirlo en IndicatorsDataFrameNames.json\n",
    "Tiene que tener las mismas cabeceras y formato que el resto."
   ]
  },
  {
   "cell_type": "markdown",
   "metadata": {
    "id": "RGgR9eHSX1cA"
   },
   "source": [
    "## Unificar Conjunto de Datos"
   ]
  },
  {
   "cell_type": "code",
   "execution_count": null,
   "metadata": {},
   "outputs": [],
   "source": [
    "# Separamos en dos listas con los nombres de los DFs que tienen y no tienen Gender para después hacer los merge\n",
    "dfsWithGender = []\n",
    "dfsWithoutGender = []\n",
    "for dfName, df in dfs.items():\n",
    "    if('Gender' in df.columns):\n",
    "        dfsWithGender.append(dfName)\n",
    "    else:\n",
    "        dfsWithoutGender.append(dfName)\n",
    "print('With gender: ', dfsWithGender, '\\n\\nWithout Gender: ', dfsWithoutGender)"
   ]
  },
  {
   "cell_type": "code",
   "execution_count": null,
   "metadata": {
    "scrolled": false
   },
   "outputs": [],
   "source": [
    "#Mergeamos por gender\n",
    "df_mergedByGender = dfs[dfsWithGender[0]]\n",
    "for dfName in dfsWithGender[1:]:\n",
    "    df_mergedByGender = pd.merge(df_mergedByGender, dfs[dfName], \n",
    "                                 on=['Country', 'Year', 'Gender'], how='outer').sort_values(['Country', 'Year', 'Gender'])"
   ]
  },
  {
   "cell_type": "code",
   "execution_count": null,
   "metadata": {},
   "outputs": [],
   "source": [
    "# Mergeamos los que no tienen gender\n",
    "df_mergedWithoutGender = dfs[dfsWithoutGender[0]]\n",
    "for dfName in dfsWithoutGender[1:]:\n",
    "    df_mergedWithoutGender = pd.merge(df_mergedWithoutGender, dfs[dfName], \n",
    "                                      on=['Country', 'Year'], how='outer').sort_values(['Country', 'Year'])"
   ]
  },
  {
   "cell_type": "code",
   "execution_count": null,
   "metadata": {},
   "outputs": [],
   "source": [
    "df = pd.merge(dfs['6_MaternalMortalityRatio'], dfs['7_BirthAttendedBySkilledPersonal'], on=['Country', 'Year'], how='outer')"
   ]
  },
  {
   "cell_type": "code",
   "execution_count": null,
   "metadata": {},
   "outputs": [],
   "source": [
    "# Mergemos ambos merges\n",
    "df_final = pd.merge(df_mergedByGender, df_mergedWithoutGender, \n",
    "                                      on=['Country', 'Year'], how='outer').sort_values(['Country', 'Year', 'Gender'])\n"
   ]
  },
  {
   "cell_type": "code",
   "execution_count": null,
   "metadata": {
    "scrolled": true
   },
   "outputs": [],
   "source": [
    "df_final.head(50)"
   ]
  },
  {
   "cell_type": "code",
   "execution_count": null,
   "metadata": {},
   "outputs": [],
   "source": [
    "#Eliminamos aquellas filas cuyo valor Life Expectancy es NaN \n",
    "df_final.dropna(subset=['Life Expectancy'], inplace=True)\n",
    "df_final.reset_index(drop=True, inplace=True)"
   ]
  },
  {
   "cell_type": "code",
   "execution_count": null,
   "metadata": {},
   "outputs": [],
   "source": [
    "df_final"
   ]
  },
  {
   "cell_type": "markdown",
   "metadata": {
    "id": "C3glaUumYurh"
   },
   "source": [
    "## Exportar a un CSV"
   ]
  },
  {
   "cell_type": "code",
   "execution_count": null,
   "metadata": {
    "id": "vo-jf9YaYKfQ"
   },
   "outputs": [],
   "source": [
    "df_final.to_csv('UnifiedDataset.csv',sep=',', index=False)"
   ]
  }
 ],
 "metadata": {
  "colab": {
   "collapsed_sections": [],
   "name": "TFG 1 - Unión de los conjuntos de Datos.ipynb",
   "provenance": [],
   "toc_visible": true
  },
  "kernelspec": {
   "display_name": "Python 3",
   "language": "python",
   "name": "python3"
  },
  "language_info": {
   "codemirror_mode": {
    "name": "ipython",
    "version": 3
   },
   "file_extension": ".py",
   "mimetype": "text/x-python",
   "name": "python",
   "nbconvert_exporter": "python",
   "pygments_lexer": "ipython3",
   "version": "3.9.2"
  }
 },
 "nbformat": 4,
 "nbformat_minor": 1
}
