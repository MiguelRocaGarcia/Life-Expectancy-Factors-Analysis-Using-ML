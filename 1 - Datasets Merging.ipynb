{
 "cells": [
  {
   "cell_type": "markdown",
   "metadata": {},
   "source": [
    "- Antes de aplicar código solo he cambiado el nombre de las cabeceras para unificarlos\n",
    "- He unido los csvs de life expectancy de Our World in data añadiendo la columna gender\n",
    "- en la extracion analie algunos ficheros que descarté al estar incompletos oo no servir pa na. He convertido los csvs a dfs para las transformaciones\n",
    "- Mergeo en 7BirthAttendedBySkilledPersonal los datos de la WHO(dado en Kaggle) y World Bank para ampliar. 151 valores no coinciden asi que hago su media\n",
    "- He descargado 16Cardiovascular de la WHO para que fuera más completo y le he cambiado el formato para que encaje con el resto\n",
    "- Otras transformaciones: Separar genero en Life expectancy y eliminar both sexes en neonatal\n",
    "- En 26AirPollution separamos en varios csvs en función de la disease y en si es o no age -standarized\n",
    "- En donde hay Area(36,37,38,24,25), separamos en varios csvs: Total, rural, urban\n",
    "- Cambiar el nombre de las cabeceras de los csv para que queden unificados\n",
    "- Explicar conjunto de datos de partida y el formato (csv) en que estaban, asignandole un número a cada uno\n",
    "- He filtrado los datasets menos relevantes\n",
    "- He hecho un git para importarlos a jupyter\n",
    "- He tratado los datos para definir correctamente un DataFrame para cada csv separando algunos en varios DFs, eliminando columnas innecesarias, separando aquellas columnas que dan un intervalo de confianza para el valor cambiando los tipos de datos y renombrando las columnas."
   ]
  },
  {
   "cell_type": "code",
   "execution_count": 1,
   "metadata": {
    "id": "uMbdbZ7uPr_b"
   },
   "outputs": [],
   "source": [
    "# Miguel Roca García"
   ]
  },
  {
   "cell_type": "markdown",
   "metadata": {},
   "source": [
    "**Unificación de varios CSVs a uno único**"
   ]
  },
  {
   "cell_type": "markdown",
   "metadata": {},
   "source": [
    "Para añadir un nuevo CSV, solo hay que subirlo al GitHub y añadirlo en IndicatorsDataFrameNames.json\n",
    "Tiene que tener las mismas cabeceras y formato que el resto."
   ]
  },
  {
   "cell_type": "markdown",
   "metadata": {
    "id": "rQtoXn8-XoMR"
   },
   "source": [
    "# Importar librerías"
   ]
  },
  {
   "cell_type": "code",
   "execution_count": 2,
   "metadata": {
    "id": "hKuvb_c9XrKo"
   },
   "outputs": [],
   "source": [
    "import numpy as np\n",
    "import pandas as pd\n",
    "pd.options.mode.chained_assignment = None #Para evitar warnings\n",
    "import urllib.request\n",
    "import re\n",
    "import ast\n",
    "pd.set_option(\"display.max_columns\", None)#Para mostrar todas las columnas"
   ]
  },
  {
   "cell_type": "markdown",
   "metadata": {
    "id": "GXK4IhAdXrZ4"
   },
   "source": [
    "# Importar datos"
   ]
  },
  {
   "cell_type": "code",
   "execution_count": 3,
   "metadata": {
    "id": "vXD0S3hmiq_T"
   },
   "outputs": [],
   "source": [
    "#Importamos de GitHub un JSON con los nombres de todos los CSV con los datos y sus futuros nombres de columna en el DataFrame\n",
    "namesIndicatorJson = urllib.request.urlopen('https://raw.githubusercontent.com/MiguelRocaGarcia/DatasetTFG/master/IndicatorsDataFrameNames.json')\n",
    "namesJson = namesIndicatorJson.read().decode()\n",
    "indicatorsNames = ast.literal_eval(namesJson)"
   ]
  },
  {
   "cell_type": "code",
   "execution_count": 4,
   "metadata": {
    "id": "OdSMjByrk7Gt"
   },
   "outputs": [],
   "source": [
    "#Importamos los CSVs\n",
    "dfs = {}\n",
    "for name in indicatorsNames.keys():\n",
    "    dfs[name] = pd.read_csv(f'https://raw.githubusercontent.com/MiguelRocaGarcia/DatasetTFG/master/{name}.csv', sep=',')"
   ]
  },
  {
   "cell_type": "markdown",
   "metadata": {
    "id": "yV1rxygWgGVf"
   },
   "source": [
    "# Transformaciones"
   ]
  },
  {
   "cell_type": "code",
   "execution_count": 5,
   "metadata": {
    "id": "Te3mnf3en4b-"
   },
   "outputs": [],
   "source": [
    "# Eliminamos la columna Indicator\n",
    "for df in dfs.values():\n",
    "    if 'Indicator' in df.columns:\n",
    "        df.drop('Indicator', axis=1, inplace=True)   "
   ]
  },
  {
   "cell_type": "code",
   "execution_count": 6,
   "metadata": {
    "id": "mypsbenb7Xa3"
   },
   "outputs": [],
   "source": [
    "#Separamos los valores de las columnas estimados con su intervalo de confianza\n",
    "for dfName in dfs.keys():\n",
    "    if '[' in str(dfs[dfName]['Value'][0]):\n",
    "        dfs[dfName]['Low Value'] = dfs[dfName]['Value'].apply(lambda x: re.search('\\[(.*?)-',x).group(1))\n",
    "        dfs[dfName]['High Value'] = dfs[dfName]['Value'].apply(lambda x: re.search('-(.*?)\\]',x).group(1))\n",
    "        dfs[dfName]['Value'] = dfs[dfName]['Value'].apply(lambda x: re.search('(.*?)\\[',x).group(1))"
   ]
  },
  {
   "cell_type": "code",
   "execution_count": 7,
   "metadata": {},
   "outputs": [],
   "source": [
    "#Número de filas antes de la transformación\n",
    "shapes = {}\n",
    "for name, df in sorted(dfs.items()):\n",
    "    shapes[name] = df.shape[0]"
   ]
  },
  {
   "cell_type": "code",
   "execution_count": 8,
   "metadata": {
    "id": "i7hpemLOnNEO"
   },
   "outputs": [],
   "source": [
    "#Cambiar tipos de datos: de str a int o float y eliminar los NaN\n",
    "for dfName in dfs.keys():\n",
    "    dfs[dfName].dropna(inplace=True)  #Eliminamos los valores NaN(Necesario para que no convierta Year a float)\n",
    "    dfs[dfName]['Year'] = pd.to_numeric(dfs[dfName]['Year'], errors='coerce',downcast='integer') #Convertimos Year a integer\n",
    "    dfs[dfName]['Value'] = pd.to_numeric(dfs[dfName]['Value'], errors='coerce') #Convertimos value a numérico\n",
    "    if ('Low Value' in dfs[dfName].columns):\n",
    "        dfs[dfName]['Low Value'] = pd.to_numeric(dfs[dfName]['Low Value'], errors='coerce')\n",
    "        dfs[dfName]['High Value'] = pd.to_numeric(dfs[dfName]['High Value'], errors='coerce')\n",
    "    dfs[dfName].dropna(inplace=True)  #Eliminamos los valores NaN"
   ]
  },
  {
   "cell_type": "code",
   "execution_count": 9,
   "metadata": {},
   "outputs": [],
   "source": [
    "# Número de filas tras la transformación\n",
    "shapesAfter = {}\n",
    "for name, df in sorted(dfs.items()):\n",
    "    shapesAfter[name] = df.shape[0]"
   ]
  },
  {
   "cell_type": "code",
   "execution_count": 10,
   "metadata": {},
   "outputs": [
    {
     "name": "stdout",
     "output_type": "stream",
     "text": [
      "10_Under5MortalityRate :  0\n",
      "11_IncedenceOfMalaria :  0\n",
      "12_IncedenceOfTuberculosis :  0\n",
      "13_HepatitisBsurfaceAntigen :  0\n",
      "14_InterventionAgainstNTDs :  0\n",
      "16_CardiovascularDyingProbability30_70 :  0\n",
      "17_SuicideRates :  0\n",
      "18_AlcoholSubstanceAbuse :  0\n",
      "19_RoadTrafficDeaths :  74\n",
      "1_LifeExpectancyAtBirth :  0\n",
      "20_ReproductiveAgeWomen :  0\n",
      "21_AdolescentBirthRate :  0\n",
      "22_UniversalHealthCareCoverage :  0\n",
      "24-1_Population10PercentageSDGTotal :  0\n",
      "24-2_Population10PercentageSDGUrban :  0\n",
      "24-3_Population10PercentageSDGRural :  0\n",
      "25-1_Population25PercentageSDGTotal :  0\n",
      "25-2_Population25PercentageSDGUrban :  0\n",
      "25-3_Population25PercentageSDGRural :  0\n",
      "26-1-1_AirPollutionDeathRateStroke :  0\n",
      "26-1-2_AirPollutionDeathRateStrokeAgeStandardized :  0\n",
      "26-2-1_AirPollutionDeathRateIschaemicHeartDisease :  0\n",
      "26-2-2_AirPollutionDeathRateIschaemicHeartDiseaseAgeStandardized :  0\n",
      "26-3-1_AirPollutionDeathRateLowerRespiratoryInfections :  0\n",
      "26-3-2_AirPollutionDeathRateLowerRespiratoryInfectionsAgeStandardized :  0\n",
      "26-4-1_AirPollutionDeathRateChronicObstructivePulmonaryDisease :  0\n",
      "26-4-2_AirPollutionDeathRateChronicObstructivePulmonaryDiseaseAgeStandardized :  0\n",
      "26-5-1_AirPollutionDeathRateTotal :  0\n",
      "26-5-2_AirPollutionDeathRateTotalAgeStandardized :  0\n",
      "26-6-1_AirPollutionDeathRateTracheaBronchusLungCancers :  0\n",
      "26-6-2_AirPollutionDeathRateTracheaBronchusLungCancersAgeStandardized :  0\n",
      "27_MortalityRateUnsafeWash :  0\n",
      "28_MortalityRatePoisoning :  0\n",
      "29_TobaccoPrevalence :  0\n",
      "30_MedicalDoctors :  0\n",
      "31_NursingAndMidwife :  0\n",
      "32_Dentists :  0\n",
      "33_Pharmacists :  0\n",
      "35_BasicDrinkingWaterServices :  0\n",
      "36-1_BasicSanitizationServicesTotal :  0\n",
      "36-2_BasicSanitizationServicesUrban :  0\n",
      "36-3_BasicSanitizationServicesRural :  0\n",
      "37-1_SafelySanitizationTotal :  0\n",
      "37-2_SafelySanitizationUrban :  0\n",
      "37-3_SafelySanitizationRural :  0\n",
      "38-1_BasicHandWashingTotal :  0\n",
      "38-2_BasicHandWashingUrban :  0\n",
      "38-3_BasicHandWashingRural :  0\n",
      "39_CleanFuelAndTech :  0\n",
      "40_BirthRate :  927\n",
      "41_BattleRelatedDeaths :  6777\n",
      "42_InjuryDeathsPercentage :  7273\n",
      "43_DeathRate :  420\n",
      "44_GDPperCapita :  579\n",
      "45-1_PovertyGap1.90 :  6007\n",
      "45-2_PovertyGap3.20 :  6271\n",
      "45-3_PovertyGap5.50 :  6272\n",
      "46_IcomePerCapita :  2128\n",
      "47-1_PopulationAges0-14 :  2976\n",
      "47-2_PopulationAges15-64 :  2976\n",
      "47-3_PopulationAges65+ :  2976\n",
      "47-4_PopulationAges65-69 :  1984\n",
      "47-5_PopulationAges70-74 :  1984\n",
      "47-6_PopulationAges75-79 :  1984\n",
      "47-7_PopulationAges80+ :  1984\n",
      "48_TotalPopulation :  54\n",
      "49_GNIperCapita :  1117\n",
      "50_ConflictAndTerrorismDeaths :  0\n",
      "51_HomicideRate :  0\n",
      "52_GovernmentExpenditureEducation :  4935\n",
      "53_GovernmentExpenditureMilitary :  3243\n",
      "54_GovernmentExpenditureHealth :  0\n",
      "55-10_DietCompositionAlcoholicBeverages :  53\n",
      "55-1_DietCompositionOther :  0\n",
      "55-2_DietCompositionSugar :  0\n",
      "55-3_DietCompositionOilsAndFats :  0\n",
      "55-4_DietCompositionMeat :  0\n",
      "55-5_DietCompositionDairyAndEggs :  0\n",
      "55-6_DietCompositionFruitAndVegetables :  0\n",
      "55-7_DietCompositionStarchyRoots :  0\n",
      "55-8_DietCompositionPulses :  0\n",
      "55-9_DietCompositionCerealsAndGrains :  0\n",
      "56_VegetableConsumption :  0\n",
      "57-10_FruitConsumptionPlantains :  3163\n",
      "57-11_FruitConsumptionOther :  0\n",
      "57-1_FruitConsumptionBananas :  309\n",
      "57-2_FruitConsumptionDates :  1101\n",
      "57-3_FruitConsumptionOtherCitrus :  1090\n",
      "57-4_FruitConsumptionOrangesAndMandarines :  53\n",
      "57-5_FruitConsumptionApples :  0\n",
      "57-6_FruitConsumptionLemonsAndLimes :  658\n",
      "57-7_FruitConsumptionGrapes :  106\n",
      "57-8_FruitConsumptionGrapefruit :  659\n",
      "57-9_FruitConsumptionPineapples :  306\n",
      "58-1_CerealConsumptionOats :  786\n",
      "58-2_CerealConsumptionRye :  2270\n",
      "58-3_CerealConsumptionBarley :  723\n",
      "58-4_CerealConsumptionSorghum :  5716\n",
      "58-5_CerealConsumptionMaize :  138\n",
      "58-6_CerealConsumptionWheat :  0\n",
      "58-7_CerealConsumptionRice :  0\n",
      "59-1_DietCaloriesAnimalProtein :  0\n",
      "59-2_DietCaloriesPlantProtein :  0\n",
      "59-3_DietCaloriesFat :  0\n",
      "59-4_DietCaloriesCarbohydrates :  0\n",
      "6_MaternalMortalityRatio :  0\n",
      "7_BirthAttendedBySkilledPersonal :  0\n",
      "8_InfantMortalityRate :  0\n",
      "9_NeonatalMortalityRate :  0\n"
     ]
    }
   ],
   "source": [
    "#Filas eliminadas por contener NaN\n",
    "for name in sorted(shapes.keys()):\n",
    "    print(name, ': ', shapes[name] - shapesAfter[name])"
   ]
  },
  {
   "cell_type": "code",
   "execution_count": 11,
   "metadata": {
    "colab": {
     "base_uri": "https://localhost:8080/"
    },
    "id": "sQe9pQmqxXTc",
    "outputId": "18f8f91a-98ec-4f6c-b840-47d4d93f4d6a"
   },
   "outputs": [
    {
     "name": "stdout",
     "output_type": "stream",
     "text": [
      "10_Under5MortalityRate \n",
      " [2019, 2018, 2017, 2016, 2015, 2014, 2013, 2012, 2011, 2010, 2009, 2008, 2007, 2006, 2005, 2004, 2003, 2002, 2001, 2000, 1999, 1998, 1997, 1996, 1995, 1994, 1993, 1992, 1991, 1990, 1989, 1988, 1987, 1986, 1985, 1984, 1983, 1982, 1981, 1980, 1979, 1978, 1977, 1976, 1975, 1974, 1973, 1972, 1971, 1970, 1969, 1968, 1967, 1966, 1965, 1964, 1963, 1962, 1961, 1960, 1959, 1958, 1957, 1956, 1955, 1954, 1953, 1952, 1951, 1950]\n",
      "\n",
      "11_IncedenceOfMalaria \n",
      " [2018, 2017, 2016, 2015, 2014, 2013, 2012, 2011, 2010, 2009, 2008, 2007, 2006, 2005, 2004, 2003, 2002, 2001, 2000]\n",
      "\n",
      "12_IncedenceOfTuberculosis \n",
      " [2019, 2018, 2017, 2016, 2015, 2014, 2013, 2012, 2011, 2010, 2009, 2008, 2007, 2006, 2005, 2004, 2003, 2002, 2001, 2000]\n",
      "\n",
      "13_HepatitisBsurfaceAntigen \n",
      " [2015]\n",
      "\n",
      "14_InterventionAgainstNTDs \n",
      " [2018, 2017, 2016, 2015, 2014, 2013, 2012, 2011, 2010]\n",
      "\n",
      "16_CardiovascularDyingProbability30_70 \n",
      " [2000, 2001, 2002, 2003, 2004, 2005, 2006, 2007, 2008, 2009, 2010, 2011, 2012, 2013, 2014, 2015, 2016, 2017, 2018, 2019]\n",
      "\n",
      "17_SuicideRates \n",
      " [2016, 2015, 2010, 2005, 2000]\n",
      "\n",
      "18_AlcoholSubstanceAbuse \n",
      " [2018, 2015, 2010, 2005, 2000]\n",
      "\n",
      "19_RoadTrafficDeaths \n",
      " [2013, 2016]\n",
      "\n",
      "1_LifeExpectancyAtBirth \n",
      " [1990, 1991, 1992, 1993, 1994, 1995, 1996, 1997, 1998, 1999, 2000, 2001, 2002, 2003, 2004, 2005, 2006, 2007, 2008, 2009, 2010, 2011, 2012, 2013, 2014, 2015, 2016, 2017, 2018, 2019]\n",
      "\n",
      "20_ReproductiveAgeWomen \n",
      " [2016, 2009, 2013, 2014, 2012, 2010, 2008, 2007, 2017, 2011, 2015]\n",
      "\n",
      "21_AdolescentBirthRate \n",
      " [2017, 2014, 2013, 2011, 2009, 2008, 2007, 2006, 2005, 2003, 2000, 2016, 2015, 2012, 2010, 2004, 2002, 2001, 2018]\n",
      "\n",
      "22_UniversalHealthCareCoverage \n",
      " [2017, 2015]\n",
      "\n",
      "24-1_Population10PercentageSDGTotal \n",
      " [2013, 2007, 2012, 2008, 2005, 2002, 1996, 2004, 2011, 2010, 2009, 2006, 2003, 2001, 1999, 2016, 2000, 2015, 2014, 1998, 1997, 2017, 1993, 1995, 1986, 1994, 1992, 1988, 1987, 1985, 1991, 2018, 1990]\n",
      "\n",
      "24-2_Population10PercentageSDGUrban \n",
      " [2013, 2007, 2012, 2008, 2005, 2002, 1996, 2004, 2011, 2010, 2009, 2006, 2003, 2001, 1999, 2016, 2000, 2015, 2014, 1998, 2017, 1997, 1995, 1992, 1991, 1993, 2018, 1994, 1990]\n",
      "\n",
      "24-3_Population10PercentageSDGRural \n",
      " [2013, 2007, 2012, 2008, 2005, 2002, 1996, 2004, 2011, 2010, 2009, 2006, 2003, 2001, 1999, 2016, 2000, 2015, 2014, 1998, 2017, 1997, 1995, 1992, 1991, 1993, 2018, 1994, 1990]\n",
      "\n",
      "25-1_Population25PercentageSDGTotal \n",
      " [2013, 2007, 2012, 2008, 2005, 2002, 1996, 2004, 2011, 2010, 2009, 2006, 2003, 2001, 1999, 2016, 2000, 2015, 2014, 1998, 1997, 2017, 1993, 1995, 1986, 1994, 1992, 1988, 1987, 1985, 1991, 2018, 1990]\n",
      "\n",
      "25-2_Population25PercentageSDGUrban \n",
      " [2013, 2007, 2012, 2008, 2005, 2002, 1996, 2004, 2011, 2010, 2009, 2006, 2003, 2001, 1999, 2016, 2000, 2015, 2014, 1998, 2017, 1997, 1995, 1992, 1991, 1993, 2018, 1994, 1990]\n",
      "\n",
      "25-3_Population25PercentageSDGRural \n",
      " [2013, 2007, 2012, 2008, 2005, 2002, 1996, 2004, 2011, 2010, 2009, 2006, 2003, 2001, 1999, 2016, 2000, 2015, 2014, 1998, 2017, 1997, 1995, 1992, 1991, 1993, 2018, 1994, 1990]\n",
      "\n",
      "26-1-1_AirPollutionDeathRateStroke \n",
      " [2016]\n",
      "\n",
      "26-1-2_AirPollutionDeathRateStrokeAgeStandardized \n",
      " [2016]\n",
      "\n",
      "26-2-1_AirPollutionDeathRateIschaemicHeartDisease \n",
      " [2016]\n",
      "\n",
      "26-2-2_AirPollutionDeathRateIschaemicHeartDiseaseAgeStandardized \n",
      " [2016]\n",
      "\n",
      "26-3-1_AirPollutionDeathRateLowerRespiratoryInfections \n",
      " [2016]\n",
      "\n",
      "26-3-2_AirPollutionDeathRateLowerRespiratoryInfectionsAgeStandardized \n",
      " [2016]\n",
      "\n",
      "26-4-1_AirPollutionDeathRateChronicObstructivePulmonaryDisease \n",
      " [2016]\n",
      "\n",
      "26-4-2_AirPollutionDeathRateChronicObstructivePulmonaryDiseaseAgeStandardized \n",
      " [2016]\n",
      "\n",
      "26-5-1_AirPollutionDeathRateTotal \n",
      " [2016]\n",
      "\n",
      "26-5-2_AirPollutionDeathRateTotalAgeStandardized \n",
      " [2016]\n",
      "\n",
      "26-6-1_AirPollutionDeathRateTracheaBronchusLungCancers \n",
      " [2016]\n",
      "\n",
      "26-6-2_AirPollutionDeathRateTracheaBronchusLungCancersAgeStandardized \n",
      " [2016]\n",
      "\n",
      "27_MortalityRateUnsafeWash \n",
      " [2016]\n",
      "\n",
      "28_MortalityRatePoisoning \n",
      " [2016, 2015, 2010, 2005, 2000]\n",
      "\n",
      "29_TobaccoPrevalence \n",
      " [2018, 2017, 2016, 2015, 2014, 2013, 2010, 2005, 2000]\n",
      "\n",
      "30_MedicalDoctors \n",
      " [2016, 2015, 2014, 2013, 2012, 2011, 2010, 2009, 2008, 2007, 2006, 2001, 2004, 2003, 2002, 2000, 1998, 1997, 1996, 1995, 1994, 1993, 1992, 1991, 1990, 2018, 2017, 2005, 1999]\n",
      "\n",
      "31_NursingAndMidwife \n",
      " [2017, 2016, 2015, 2014, 2013, 2009, 2008, 2007, 2006, 2005, 2012, 2011, 2010, 2004, 2003, 2002, 2001, 2000, 1999, 1998, 1997, 1996, 1995, 1994, 1993, 1990, 2018, 1992, 1991]\n",
      "\n",
      "32_Dentists \n",
      " [2016, 2015, 2014, 2008, 2007, 2006, 2003, 2002, 2001, 2000, 1999, 1998, 1997, 1996, 1995, 1994, 1993, 1992, 1991, 1990, 2018, 2005, 2009, 2004, 2017, 2013, 2012, 2011, 2010, 2019]\n",
      "\n",
      "33_Pharmacists \n",
      " [2016, 2015, 2014, 2012, 2011, 2010, 2009, 2008, 2007, 2006, 2005, 2001, 2013, 2003, 2002, 2000, 1999, 1994, 1993, 1992, 1991, 1990, 2018, 2004, 1998, 1997, 1995, 2017, 1996]\n",
      "\n",
      "35_BasicDrinkingWaterServices \n",
      " [2017, 2016, 2015, 2014, 2013, 2012, 2011, 2010, 2009, 2008, 2007, 2006, 2005, 2004, 2003, 2002, 2001, 2000]\n",
      "\n",
      "36-1_BasicSanitizationServicesTotal \n",
      " [2017, 2016, 2015, 2014, 2013, 2012, 2011, 2010, 2009, 2008, 2007, 2006, 2005, 2004, 2003, 2002, 2001, 2000]\n",
      "\n",
      "36-2_BasicSanitizationServicesUrban \n",
      " [2017, 2016, 2015, 2014, 2013, 2012, 2011, 2010, 2009, 2008, 2007, 2006, 2005, 2004, 2003, 2002, 2001, 2000]\n",
      "\n",
      "36-3_BasicSanitizationServicesRural \n",
      " [2017, 2016, 2015, 2014, 2013, 2012, 2011, 2010, 2009, 2008, 2007, 2006, 2005, 2004, 2003, 2002, 2001, 2000]\n",
      "\n",
      "37-1_SafelySanitizationTotal \n",
      " [2017, 2016, 2015, 2014, 2013, 2012, 2011, 2010, 2009, 2008, 2007, 2006, 2005, 2004, 2003, 2002, 2001, 2000]\n",
      "\n",
      "37-2_SafelySanitizationUrban \n",
      " [2017, 2016, 2015, 2014, 2013, 2012, 2011, 2010, 2009, 2008, 2007, 2006, 2005, 2004, 2003, 2002, 2001, 2000]\n",
      "\n",
      "37-3_SafelySanitizationRural \n",
      " [2017, 2016, 2015, 2014, 2013, 2012, 2011, 2010, 2009, 2008, 2007, 2006, 2005, 2004, 2003, 2002, 2001, 2000]\n",
      "\n",
      "38-1_BasicHandWashingTotal \n",
      " [2017, 2016, 2015, 2014, 2013, 2012, 2011, 2010, 2009, 2008, 2007, 2006, 2005, 2004, 2003, 2002, 2001, 2000]\n",
      "\n",
      "38-2_BasicHandWashingUrban \n",
      " [2017, 2016, 2015, 2014, 2013, 2012, 2011, 2010, 2009, 2008, 2007, 2006, 2005, 2004, 2003, 2002, 2001, 2000]\n",
      "\n",
      "38-3_BasicHandWashingRural \n",
      " [2017, 2016, 2015, 2014, 2013, 2012, 2011, 2010, 2009, 2008, 2007, 2006, 2005, 2004, 2003, 2002, 2001, 2000]\n",
      "\n",
      "39_CleanFuelAndTech \n",
      " [2018, 2017, 2016, 2015, 2014, 2013, 2012, 2011, 2010, 2009, 2008, 2007, 2006, 2005, 2004, 2003, 2002, 2001, 2000]\n",
      "\n",
      "40_BirthRate \n",
      " [1990, 1991, 1992, 1993, 1994, 1995, 1996, 1997, 1998, 1999, 2000, 2001, 2002, 2003, 2004, 2005, 2006, 2007, 2008, 2009, 2010, 2011, 2012, 2013, 2014, 2015, 2016, 2017, 2018]\n",
      "\n",
      "41_BattleRelatedDeaths \n",
      " [1990, 1991, 1992, 1993, 1994, 1995, 1996, 1997, 1998, 1999, 2000, 2001, 2002, 2003, 2004, 2005, 2006, 2007, 2008, 2009, 2010, 2011, 2012, 2013, 2014, 2015, 2016, 2017, 2018, 2019]\n",
      "\n",
      "42_InjuryDeathsPercentage \n",
      " [2000, 2010, 2015, 2019]\n",
      "\n",
      "43_DeathRate \n",
      " [1990, 1991, 1992, 1993, 1994, 1995, 1996, 1997, 1998, 1999, 2000, 2001, 2002, 2003, 2004, 2005, 2006, 2007, 2008, 2009, 2010, 2011, 2012, 2013, 2014, 2015, 2016, 2017, 2018]\n",
      "\n",
      "44_GDPperCapita \n",
      " [2002, 2003, 2004, 2005, 2006, 2007, 2008, 2009, 2010, 2011, 2012, 2013, 2014, 2015, 2016, 2017, 2018, 2019, 1990, 1991, 1993, 1994, 1995, 1996, 1997, 1998, 1999, 2000, 2001]\n",
      "\n",
      "45-1_PovertyGap1.90 \n",
      " [1996, 2002, 2005, 2008, 2012, 2014, 2015, 2016, 2017, 1995, 2011, 2000, 2018, 1991, 1992, 1993, 1994, 1997, 1998, 1999, 2001, 2003, 2004, 2006, 2007, 2009, 2010, 2013, 1990]\n",
      "\n",
      "45-2_PovertyGap3.20 \n",
      " [1996, 2002, 2005, 2008, 2012, 2014, 2015, 2016, 2017, 1995, 2011, 2000, 2018, 1991, 1992, 1993, 1994, 1997, 1998, 1999, 2001, 2003, 2004, 2006, 2007, 2009, 2010, 2013, 1990]\n",
      "\n",
      "45-3_PovertyGap5.50 \n",
      " [1996, 2002, 2005, 2008, 2012, 2014, 2015, 2016, 2017, 1995, 2011, 2000, 2018, 1991, 1992, 1993, 1994, 1997, 1998, 1999, 2001, 2003, 2004, 2006, 2007, 2009, 2010, 2013, 1990]\n",
      "\n",
      "46_IcomePerCapita \n",
      " [2009, 2010, 2011, 2012, 2013, 2014, 2015, 2016, 2017, 2018, 1990, 1991, 1992, 1993, 1994, 1995, 1996, 1997, 1998, 1999, 2000, 2001, 2002, 2003, 2004, 2005, 2006, 2007, 2008]\n",
      "\n",
      "47-1_PopulationAges0-14 \n",
      " [1990, 1991, 1992, 1993, 1994, 1995, 1996, 1997, 1998, 1999, 2000, 2001, 2002, 2003, 2004, 2005, 2006, 2007, 2008, 2009, 2010, 2011, 2012, 2013, 2014, 2015, 2016, 2017, 2018, 2019]\n",
      "\n",
      "47-2_PopulationAges15-64 \n",
      " [1990, 1991, 1992, 1993, 1994, 1995, 1996, 1997, 1998, 1999, 2000, 2001, 2002, 2003, 2004, 2005, 2006, 2007, 2008, 2009, 2010, 2011, 2012, 2013, 2014, 2015, 2016, 2017, 2018, 2019]\n",
      "\n",
      "47-3_PopulationAges65+ \n",
      " [1990, 1991, 1992, 1993, 1994, 1995, 1996, 1997, 1998, 1999, 2000, 2001, 2002, 2003, 2004, 2005, 2006, 2007, 2008, 2009, 2010, 2011, 2012, 2013, 2014, 2015, 2016, 2017, 2018, 2019]\n",
      "\n",
      "47-4_PopulationAges65-69 \n",
      " [1990, 1991, 1992, 1993, 1994, 1995, 1996, 1997, 1998, 1999, 2000, 2001, 2002, 2003, 2004, 2005, 2006, 2007, 2008, 2009, 2010, 2011, 2012, 2013, 2014, 2015, 2016, 2017, 2018, 2019]\n",
      "\n",
      "47-5_PopulationAges70-74 \n",
      " [1990, 1991, 1992, 1993, 1994, 1995, 1996, 1997, 1998, 1999, 2000, 2001, 2002, 2003, 2004, 2005, 2006, 2007, 2008, 2009, 2010, 2011, 2012, 2013, 2014, 2015, 2016, 2017, 2018, 2019]\n",
      "\n",
      "47-6_PopulationAges75-79 \n",
      " [1990, 1991, 1992, 1993, 1994, 1995, 1996, 1997, 1998, 1999, 2000, 2001, 2002, 2003, 2004, 2005, 2006, 2007, 2008, 2009, 2010, 2011, 2012, 2013, 2014, 2015, 2016, 2017, 2018, 2019]\n",
      "\n",
      "47-7_PopulationAges80+ \n",
      " [1990, 1991, 1992, 1993, 1994, 1995, 1996, 1997, 1998, 1999, 2000, 2001, 2002, 2003, 2004, 2005, 2006, 2007, 2008, 2009, 2010, 2011, 2012, 2013, 2014, 2015, 2016, 2017, 2018, 2019]\n",
      "\n",
      "48_TotalPopulation \n",
      " [1990, 1991, 1992, 1993, 1994, 1995, 1996, 1997, 1998, 1999, 2000, 2001, 2002, 2003, 2004, 2005, 2006, 2007, 2008, 2009, 2010, 2011, 2012, 2013, 2014, 2015, 2016, 2017, 2018, 2019]\n",
      "\n",
      "49_GNIperCapita \n",
      " [2009, 2010, 2011, 2012, 2013, 2014, 2015, 2016, 2017, 2018, 2019, 1990, 1991, 1992, 1993, 1994, 1995, 1996, 1997, 1998, 1999, 2000, 2001, 2002, 2003, 2004, 2005, 2006, 2007, 2008]\n",
      "\n"
     ]
    },
    {
     "name": "stdout",
     "output_type": "stream",
     "text": [
      "50_ConflictAndTerrorismDeaths \n",
      " [1990, 1991, 1992, 1993, 1994, 1995, 1996, 1997, 1998, 1999, 2000, 2001, 2002, 2003, 2004, 2005, 2006, 2007, 2008, 2009, 2010, 2011, 2012, 2013, 2014, 2015, 2016]\n",
      "\n",
      "51_HomicideRate \n",
      " [1990, 1991, 1992, 1993, 1994, 1995, 1996, 1997, 1998, 1999, 2000, 2001, 2002, 2003, 2004, 2005, 2006, 2007, 2008, 2009, 2010, 2011, 2012, 2013, 2014, 2015, 2016, 2017]\n",
      "\n",
      "52_GovernmentExpenditureEducation \n",
      " [2010, 2011, 2012, 2013, 2014, 2015, 2016, 2017, 1997, 1998, 1999, 2000, 2001, 2002, 2003, 2004, 2005, 2006, 2007, 2008, 2018, 2009, 1996, 1990, 1991, 1992, 1993, 1994, 1995, 2019]\n",
      "\n",
      "53_GovernmentExpenditureMilitary \n",
      " [2004, 2005, 2006, 2007, 2008, 2009, 2010, 2011, 2012, 2013, 2014, 2015, 2016, 2017, 2018, 2019, 1990, 1991, 1992, 1993, 1994, 1995, 1996, 1997, 1998, 1999, 2000, 2001, 2002, 2003]\n",
      "\n",
      "54_GovernmentExpenditureHealth \n",
      " [2002, 2003, 2004, 2005, 2006, 2007, 2008, 2009, 2010, 2011, 2012, 2013, 2014, 1995, 1996, 1997, 1998, 1999, 2000, 2001, 1880, 1890, 1900, 1910, 1920, 1930, 1960, 1961, 1962, 1963, 1964, 1965, 1966, 1967, 1968, 1969, 1970, 1971, 1972, 1973, 1974, 1975, 1976, 1977, 1978, 1979, 1980, 1981, 1982, 1983, 1984, 1985, 1986, 1987, 1988, 1989, 1990, 1991, 1992, 1993, 1994]\n",
      "\n",
      "55-10_DietCompositionAlcoholicBeverages \n",
      " [1961, 1962, 1963, 1964, 1965, 1966, 1967, 1968, 1969, 1970, 1971, 1972, 1973, 1974, 1975, 1976, 1977, 1978, 1979, 1980, 1981, 1982, 1983, 1984, 1985, 1986, 1987, 1988, 1989, 1990, 1991, 1992, 1993, 1994, 1995, 1996, 1997, 1998, 1999, 2000, 2001, 2002, 2003, 2004, 2005, 2006, 2007, 2008, 2009, 2010, 2011, 2012, 2013]\n",
      "\n",
      "55-1_DietCompositionOther \n",
      " [1961, 1962, 1963, 1964, 1965, 1966, 1967, 1968, 1969, 1970, 1971, 1972, 1973, 1974, 1975, 1976, 1977, 1978, 1979, 1980, 1981, 1982, 1983, 1984, 1985, 1986, 1987, 1988, 1989, 1990, 1991, 1992, 1993, 1994, 1995, 1996, 1997, 1998, 1999, 2000, 2001, 2002, 2003, 2004, 2005, 2006, 2007, 2008, 2009, 2010, 2011, 2012, 2013]\n",
      "\n",
      "55-2_DietCompositionSugar \n",
      " [1961, 1962, 1963, 1964, 1965, 1966, 1967, 1968, 1969, 1970, 1971, 1972, 1973, 1974, 1975, 1976, 1977, 1978, 1979, 1980, 1981, 1982, 1983, 1984, 1985, 1986, 1987, 1988, 1989, 1990, 1991, 1992, 1993, 1994, 1995, 1996, 1997, 1998, 1999, 2000, 2001, 2002, 2003, 2004, 2005, 2006, 2007, 2008, 2009, 2010, 2011, 2012, 2013]\n",
      "\n",
      "55-3_DietCompositionOilsAndFats \n",
      " [1961, 1962, 1963, 1964, 1965, 1966, 1967, 1968, 1969, 1970, 1971, 1972, 1973, 1974, 1975, 1976, 1977, 1978, 1979, 1980, 1981, 1982, 1983, 1984, 1985, 1986, 1987, 1988, 1989, 1990, 1991, 1992, 1993, 1994, 1995, 1996, 1997, 1998, 1999, 2000, 2001, 2002, 2003, 2004, 2005, 2006, 2007, 2008, 2009, 2010, 2011, 2012, 2013]\n",
      "\n",
      "55-4_DietCompositionMeat \n",
      " [1961, 1962, 1963, 1964, 1965, 1966, 1967, 1968, 1969, 1970, 1971, 1972, 1973, 1974, 1975, 1976, 1977, 1978, 1979, 1980, 1981, 1982, 1983, 1984, 1985, 1986, 1987, 1988, 1989, 1990, 1991, 1992, 1993, 1994, 1995, 1996, 1997, 1998, 1999, 2000, 2001, 2002, 2003, 2004, 2005, 2006, 2007, 2008, 2009, 2010, 2011, 2012, 2013]\n",
      "\n",
      "55-5_DietCompositionDairyAndEggs \n",
      " [1961, 1962, 1963, 1964, 1965, 1966, 1967, 1968, 1969, 1970, 1971, 1972, 1973, 1974, 1975, 1976, 1977, 1978, 1979, 1980, 1981, 1982, 1983, 1984, 1985, 1986, 1987, 1988, 1989, 1990, 1991, 1992, 1993, 1994, 1995, 1996, 1997, 1998, 1999, 2000, 2001, 2002, 2003, 2004, 2005, 2006, 2007, 2008, 2009, 2010, 2011, 2012, 2013]\n",
      "\n",
      "55-6_DietCompositionFruitAndVegetables \n",
      " [1961, 1962, 1963, 1964, 1965, 1966, 1967, 1968, 1969, 1970, 1971, 1972, 1973, 1974, 1975, 1976, 1977, 1978, 1979, 1980, 1981, 1982, 1983, 1984, 1985, 1986, 1987, 1988, 1989, 1990, 1991, 1992, 1993, 1994, 1995, 1996, 1997, 1998, 1999, 2000, 2001, 2002, 2003, 2004, 2005, 2006, 2007, 2008, 2009, 2010, 2011, 2012, 2013]\n",
      "\n",
      "55-7_DietCompositionStarchyRoots \n",
      " [1961, 1962, 1963, 1964, 1965, 1966, 1967, 1968, 1969, 1970, 1971, 1972, 1973, 1974, 1975, 1976, 1977, 1978, 1979, 1980, 1981, 1982, 1983, 1984, 1985, 1986, 1987, 1988, 1989, 1990, 1991, 1992, 1993, 1994, 1995, 1996, 1997, 1998, 1999, 2000, 2001, 2002, 2003, 2004, 2005, 2006, 2007, 2008, 2009, 2010, 2011, 2012, 2013]\n",
      "\n",
      "55-8_DietCompositionPulses \n",
      " [1961, 1962, 1963, 1964, 1965, 1966, 1967, 1968, 1969, 1970, 1971, 1972, 1973, 1974, 1975, 1976, 1977, 1978, 1979, 1980, 1981, 1982, 1983, 1984, 1985, 1986, 1987, 1988, 1989, 1990, 1991, 1992, 1993, 1994, 1995, 1996, 1997, 1998, 1999, 2000, 2001, 2002, 2003, 2004, 2005, 2006, 2007, 2008, 2009, 2010, 2011, 2012, 2013]\n",
      "\n",
      "55-9_DietCompositionCerealsAndGrains \n",
      " [1961, 1962, 1963, 1964, 1965, 1966, 1967, 1968, 1969, 1970, 1971, 1972, 1973, 1974, 1975, 1976, 1977, 1978, 1979, 1980, 1981, 1982, 1983, 1984, 1985, 1986, 1987, 1988, 1989, 1990, 1991, 1992, 1993, 1994, 1995, 1996, 1997, 1998, 1999, 2000, 2001, 2002, 2003, 2004, 2005, 2006, 2007, 2008, 2009, 2010, 2011, 2012, 2013]\n",
      "\n",
      "56_VegetableConsumption \n",
      " [1961, 1962, 1963, 1964, 1965, 1966, 1967, 1968, 1969, 1970, 1971, 1972, 1973, 1974, 1975, 1976, 1977, 1978, 1979, 1980, 1981, 1982, 1983, 1984, 1985, 1986, 1987, 1988, 1989, 1990, 1991, 1992, 1993, 1994, 1995, 1996, 1997, 1998, 1999, 2000, 2001, 2002, 2003, 2004, 2005, 2006, 2007, 2008, 2009, 2010, 2011, 2012, 2013, 2014, 2015, 2016, 2017]\n",
      "\n",
      "57-10_FruitConsumptionPlantains \n",
      " [1961, 1962, 1963, 1964, 1965, 1966, 1967, 1968, 1969, 1970, 1971, 1972, 1973, 1974, 1975, 1976, 1977, 1978, 1979, 1980, 1981, 1982, 1983, 1984, 1985, 1986, 1987, 1988, 1989, 1990, 1991, 1992, 1993, 1994, 1995, 1996, 1997, 1998, 1999, 2000, 2001, 2002, 2003, 2004, 2005, 2006, 2007, 2008, 2009, 2010, 2011, 2012, 2013]\n",
      "\n",
      "57-11_FruitConsumptionOther \n",
      " [1961, 1962, 1963, 1964, 1965, 1966, 1967, 1968, 1969, 1970, 1971, 1972, 1973, 1974, 1975, 1976, 1977, 1978, 1979, 1980, 1981, 1982, 1983, 1984, 1985, 1986, 1987, 1988, 1989, 1990, 1991, 1992, 1993, 1994, 1995, 1996, 1997, 1998, 1999, 2000, 2001, 2002, 2003, 2004, 2005, 2006, 2007, 2008, 2009, 2010, 2011, 2012, 2013]\n",
      "\n",
      "57-1_FruitConsumptionBananas \n",
      " [1961, 1962, 1963, 1964, 1965, 1966, 1967, 1968, 1969, 1970, 1971, 1972, 1973, 1974, 1975, 1976, 1977, 1978, 1979, 1980, 1981, 1982, 1983, 1984, 1985, 1986, 1987, 1988, 1989, 1990, 1991, 1992, 1993, 1994, 1995, 1996, 1997, 1998, 1999, 2000, 2001, 2002, 2003, 2004, 2005, 2006, 2007, 2008, 2009, 2010, 2011, 2012, 2013]\n",
      "\n",
      "57-2_FruitConsumptionDates \n",
      " [1961, 1962, 1963, 1964, 1965, 1966, 1967, 1968, 1969, 1970, 1971, 1972, 1973, 1974, 1975, 1976, 1977, 1978, 1979, 1980, 1981, 1982, 1983, 1984, 1985, 1986, 1987, 1988, 1989, 1990, 1991, 1992, 1993, 1994, 1995, 1996, 1997, 1998, 1999, 2000, 2001, 2002, 2003, 2004, 2005, 2006, 2007, 2008, 2009, 2010, 2011, 2012, 2013]\n",
      "\n",
      "57-3_FruitConsumptionOtherCitrus \n",
      " [1961, 1962, 1963, 1964, 1965, 1966, 1967, 1968, 1969, 1970, 1971, 1972, 1973, 1974, 1975, 1976, 1977, 1978, 1979, 1980, 1981, 1982, 1983, 1984, 1985, 1986, 1987, 1988, 1989, 1990, 1991, 1992, 1993, 1994, 1995, 1996, 1997, 1998, 1999, 2000, 2001, 2002, 2003, 2004, 2005, 2006, 2007, 2008, 2009, 2010, 2011, 2012, 2013]\n",
      "\n",
      "57-4_FruitConsumptionOrangesAndMandarines \n",
      " [1961, 1962, 1963, 1964, 1965, 1966, 1967, 1968, 1969, 1970, 1971, 1972, 1973, 1974, 1975, 1976, 1977, 1978, 1979, 1980, 1981, 1982, 1983, 1984, 1985, 1986, 1987, 1988, 1989, 1990, 1991, 1992, 1993, 1994, 1995, 1996, 1997, 1998, 1999, 2000, 2001, 2002, 2003, 2004, 2005, 2006, 2007, 2008, 2009, 2010, 2011, 2012, 2013]\n",
      "\n",
      "57-5_FruitConsumptionApples \n",
      " [1961, 1962, 1963, 1964, 1965, 1966, 1967, 1968, 1969, 1970, 1971, 1972, 1973, 1974, 1975, 1976, 1977, 1978, 1979, 1980, 1981, 1982, 1983, 1984, 1985, 1986, 1987, 1988, 1989, 1990, 1991, 1992, 1993, 1994, 1995, 1996, 1997, 1998, 1999, 2000, 2001, 2002, 2003, 2004, 2005, 2006, 2007, 2008, 2009, 2010, 2011, 2012, 2013]\n",
      "\n",
      "57-6_FruitConsumptionLemonsAndLimes \n",
      " [1961, 1962, 1963, 1964, 1965, 1966, 1967, 1968, 1969, 1970, 1971, 1972, 1973, 1974, 1975, 1976, 1977, 1978, 1979, 1980, 1981, 1982, 1983, 1984, 1985, 1986, 1987, 1988, 1989, 1990, 1991, 1992, 1993, 1994, 1995, 1996, 1997, 1998, 1999, 2000, 2001, 2002, 2003, 2004, 2005, 2006, 2007, 2008, 2009, 2010, 2011, 2012, 2013]\n",
      "\n",
      "57-7_FruitConsumptionGrapes \n",
      " [1961, 1962, 1963, 1964, 1965, 1966, 1967, 1968, 1969, 1970, 1971, 1972, 1973, 1974, 1975, 1976, 1977, 1978, 1979, 1980, 1981, 1982, 1983, 1984, 1985, 1986, 1987, 1988, 1989, 1990, 1991, 1992, 1993, 1994, 1995, 1996, 1997, 1998, 1999, 2000, 2001, 2002, 2003, 2004, 2005, 2006, 2007, 2008, 2009, 2010, 2011, 2012, 2013]\n",
      "\n",
      "57-8_FruitConsumptionGrapefruit \n",
      " [1961, 1962, 1963, 1964, 1965, 1966, 1967, 1968, 1969, 1970, 1971, 1972, 1973, 1974, 1975, 1976, 1977, 1978, 1979, 1980, 1981, 1982, 1983, 1984, 1985, 1986, 1987, 1988, 1989, 1990, 1991, 1992, 1993, 1994, 1995, 1996, 1997, 1998, 1999, 2000, 2001, 2002, 2003, 2004, 2005, 2006, 2007, 2008, 2009, 2010, 2011, 2012, 2013]\n",
      "\n",
      "57-9_FruitConsumptionPineapples \n",
      " [1961, 1962, 1963, 1964, 1965, 1966, 1967, 1968, 1969, 1970, 1971, 1972, 1973, 1974, 1975, 1976, 1977, 1978, 1979, 1980, 1981, 1982, 1983, 1984, 1985, 1986, 1987, 1988, 1989, 1990, 1991, 1992, 1993, 1994, 1995, 1996, 1997, 1998, 1999, 2000, 2001, 2002, 2003, 2004, 2005, 2006, 2007, 2008, 2009, 2010, 2011, 2012, 2013]\n",
      "\n",
      "58-1_CerealConsumptionOats \n",
      " [1961, 1962, 1963, 1964, 1965, 1966, 1967, 1968, 1969, 1970, 1971, 1972, 1973, 1974, 1975, 1976, 1977, 1978, 1979, 1980, 1981, 1982, 1983, 1984, 1985, 1986, 1987, 1988, 1989, 1990, 1991, 1992, 1993, 1994, 1995, 1996, 1997, 1998, 1999, 2000, 2001, 2002, 2003, 2004, 2005, 2006, 2007, 2008, 2009, 2010, 2011, 2012, 2013]\n",
      "\n",
      "58-2_CerealConsumptionRye \n",
      " [1961, 1962, 1963, 1964, 1965, 1966, 1967, 1968, 1969, 1970, 1971, 1972, 1973, 1974, 1975, 1976, 1977, 1978, 1979, 1980, 1981, 1982, 1983, 1984, 1985, 1986, 1987, 1988, 1989, 1990, 1991, 1992, 1993, 1994, 1995, 1996, 1997, 1998, 1999, 2000, 2001, 2002, 2003, 2004, 2005, 2006, 2007, 2008, 2009, 2010, 2011, 2012, 2013]\n",
      "\n",
      "58-3_CerealConsumptionBarley \n",
      " [1961, 1962, 1963, 1964, 1965, 1966, 1967, 1968, 1969, 1970, 1971, 1972, 1973, 1974, 1975, 1976, 1977, 1978, 1979, 1980, 1981, 1982, 1983, 1984, 1985, 1986, 1987, 1988, 1989, 1990, 1991, 1992, 1993, 1994, 1995, 1996, 1997, 1998, 1999, 2000, 2001, 2002, 2003, 2004, 2005, 2006, 2007, 2008, 2009, 2010, 2011, 2012, 2013]\n",
      "\n",
      "58-4_CerealConsumptionSorghum \n",
      " [1961, 1962, 1963, 1964, 1965, 1966, 1967, 1968, 1969, 1970, 1971, 1972, 1973, 1974, 1975, 1976, 1977, 1978, 1979, 1980, 1981, 1982, 1983, 1984, 1985, 1986, 1987, 1988, 1989, 1990, 1991, 1992, 1993, 1994, 1995, 1996, 1997, 1998, 1999, 2000, 2001, 2002, 2003, 2004, 2005, 2006, 2007, 2008, 2009, 2010, 2011, 2012, 2013]\n",
      "\n",
      "58-5_CerealConsumptionMaize \n",
      " [1961, 1962, 1963, 1964, 1965, 1966, 1967, 1968, 1969, 1970, 1971, 1972, 1973, 1974, 1975, 1976, 1977, 1978, 1979, 1980, 1981, 1982, 1983, 1984, 1985, 1986, 1987, 1988, 1989, 1990, 1991, 1992, 1993, 1994, 1995, 1996, 1997, 1998, 1999, 2000, 2001, 2002, 2003, 2004, 2005, 2006, 2007, 2008, 2009, 2010, 2011, 2012, 2013]\n",
      "\n",
      "58-6_CerealConsumptionWheat \n",
      " [1961, 1962, 1963, 1964, 1965, 1966, 1967, 1968, 1969, 1970, 1971, 1972, 1973, 1974, 1975, 1976, 1977, 1978, 1979, 1980, 1981, 1982, 1983, 1984, 1985, 1986, 1987, 1988, 1989, 1990, 1991, 1992, 1993, 1994, 1995, 1996, 1997, 1998, 1999, 2000, 2001, 2002, 2003, 2004, 2005, 2006, 2007, 2008, 2009, 2010, 2011, 2012, 2013]\n",
      "\n",
      "58-7_CerealConsumptionRice \n",
      " [1961, 1962, 1963, 1964, 1965, 1966, 1967, 1968, 1969, 1970, 1971, 1972, 1973, 1974, 1975, 1976, 1977, 1978, 1979, 1980, 1981, 1982, 1983, 1984, 1985, 1986, 1987, 1988, 1989, 1990, 1991, 1992, 1993, 1994, 1995, 1996, 1997, 1998, 1999, 2000, 2001, 2002, 2003, 2004, 2005, 2006, 2007, 2008, 2009, 2010, 2011, 2012, 2013]\n",
      "\n",
      "59-1_DietCaloriesAnimalProtein \n",
      " [1961, 1962, 1963, 1964, 1965, 1966, 1967, 1968, 1969, 1970, 1971, 1972, 1973, 1974, 1975, 1976, 1977, 1978, 1979, 1980, 1981, 1982, 1983, 1984, 1985, 1986, 1987, 1988, 1989, 1990, 1991, 1992, 1993, 1994, 1995, 1996, 1997, 1998, 1999, 2000, 2001, 2002, 2003, 2004, 2005, 2006, 2007, 2008, 2009, 2010, 2011, 2012, 2013]\n",
      "\n",
      "59-2_DietCaloriesPlantProtein \n",
      " [1961, 1962, 1963, 1964, 1965, 1966, 1967, 1968, 1969, 1970, 1971, 1972, 1973, 1974, 1975, 1976, 1977, 1978, 1979, 1980, 1981, 1982, 1983, 1984, 1985, 1986, 1987, 1988, 1989, 1990, 1991, 1992, 1993, 1994, 1995, 1996, 1997, 1998, 1999, 2000, 2001, 2002, 2003, 2004, 2005, 2006, 2007, 2008, 2009, 2010, 2011, 2012, 2013]\n",
      "\n",
      "59-3_DietCaloriesFat \n",
      " [1961, 1962, 1963, 1964, 1965, 1966, 1967, 1968, 1969, 1970, 1971, 1972, 1973, 1974, 1975, 1976, 1977, 1978, 1979, 1980, 1981, 1982, 1983, 1984, 1985, 1986, 1987, 1988, 1989, 1990, 1991, 1992, 1993, 1994, 1995, 1996, 1997, 1998, 1999, 2000, 2001, 2002, 2003, 2004, 2005, 2006, 2007, 2008, 2009, 2010, 2011, 2012, 2013]\n",
      "\n",
      "59-4_DietCaloriesCarbohydrates \n",
      " [1961, 1962, 1963, 1964, 1965, 1966, 1967, 1968, 1969, 1970, 1971, 1972, 1973, 1974, 1975, 1976, 1977, 1978, 1979, 1980, 1981, 1982, 1983, 1984, 1985, 1986, 1987, 1988, 1989, 1990, 1991, 1992, 1993, 1994, 1995, 1996, 1997, 1998, 1999, 2000, 2001, 2002, 2003, 2004, 2005, 2006, 2007, 2008, 2009, 2010, 2011, 2012, 2013]\n",
      "\n",
      "6_MaternalMortalityRatio \n",
      " [2017, 2016, 2015, 2014, 2013, 2012, 2011, 2010, 2009, 2008, 2007, 2006, 2005, 2004, 2003, 2002, 2001, 2000]\n",
      "\n",
      "7_BirthAttendedBySkilledPersonal \n",
      " [2000, 2003, 2006, 2008, 2010, 2011, 2012, 2014, 2015, 2017, 2018, 1990, 1991, 1992, 1993, 1994, 1995, 1996, 1997, 1998, 1999, 2001, 2002, 2004, 2005, 2009, 2013, 2016, 2007, 2019]\n",
      "\n",
      "8_InfantMortalityRate \n",
      " [2019, 2018, 2017, 2016, 2015, 2014, 2013, 2012, 2011, 2010, 2009, 2008, 2007, 2006, 2005, 2004, 2003, 2002, 2001, 2000, 1999, 1998, 1997, 1996, 1995, 1994, 1993, 1992, 1991, 1990, 1989, 1988, 1987, 1986, 1985, 1984, 1983, 1982, 1981, 1980, 1979, 1978, 1977, 1976, 1975, 1974, 1973, 1972, 1971, 1970, 1969, 1968, 1967, 1966, 1965, 1964, 1963, 1962, 1961, 1960, 1959, 1958, 1957, 1956, 1955, 1954, 1953, 1952, 1951, 1950]\n",
      "\n",
      "9_NeonatalMortalityRate \n",
      " [2019, 2018, 2017, 2016, 2015, 2014, 2013, 2012, 2011, 2010, 2009, 2008, 2007, 2006, 2005, 2004, 2003, 2002, 2001, 2000, 1999, 1998, 1997, 1996, 1995, 1994, 1993, 1992, 1991, 1990, 1989, 1988, 1987, 1986, 1985, 1984, 1983, 1982, 1981, 1980, 1979, 1978, 1977, 1976, 1975, 1974, 1973, 1972, 1971, 1970, 1969, 1968, 1967, 1966, 1965, 1964, 1963, 1962, 1961, 1960, 1959, 1958, 1957, 1956, 1955, 1954, 1953, 1952, 1951]\n",
      "\n"
     ]
    }
   ],
   "source": [
    "#Vemos los años disponibles para cada indicador\n",
    "for name, df in sorted(dfs.items()):\n",
    "  if 'Year' in df.columns:\n",
    "    years = df['Year'].unique().tolist()\n",
    "    print(name, '\\n', years)\n",
    "    print()"
   ]
  },
  {
   "cell_type": "code",
   "execution_count": 12,
   "metadata": {},
   "outputs": [],
   "source": [
    "#Filtramos por años entre 1900 y 2019\n",
    "for dfName in dfs.keys():\n",
    "    dfs[dfName] = dfs[dfName][(dfs[dfName]['Year'] >= 1990)]"
   ]
  },
  {
   "cell_type": "code",
   "execution_count": 13,
   "metadata": {},
   "outputs": [],
   "source": [
    "# Cambiamos los nombres de las columnas para hacerlos más significativos\n",
    "for dfName in dfs.keys():\n",
    "    dfs[dfName].rename(columns={'Value': indicatorsNames[dfName]}, inplace=True)\n",
    "    if('Low Value' in dfs[dfName].columns):\n",
    "        dfs[dfName].rename(columns={'Low Value': f'Low CI Value {indicatorsNames[dfName]}',\n",
    "                                   'High Value': f'High CI Value {indicatorsNames[dfName]}'}, inplace=True)"
   ]
  },
  {
   "cell_type": "markdown",
   "metadata": {
    "id": "RGgR9eHSX1cA"
   },
   "source": [
    "# Unificar Conjunto de Datos"
   ]
  },
  {
   "cell_type": "code",
   "execution_count": 14,
   "metadata": {},
   "outputs": [],
   "source": [
    "#Ver países que tienen valor para Life Expectancy \n",
    "countriesLE = set(dfs['1_LifeExpectancyAtBirth']['Country'].unique())"
   ]
  },
  {
   "cell_type": "code",
   "execution_count": 15,
   "metadata": {
    "scrolled": true
   },
   "outputs": [],
   "source": [
    "#Ver países que tienen Life Expectancy a NaN\n",
    "countriesNotLE = set()\n",
    "for df in dfs.values():\n",
    "    countriesNotLE.update(df['Country'].unique())\n",
    "\n",
    "countriesNotLE = countriesNotLE.difference(countriesLE)"
   ]
  },
  {
   "cell_type": "code",
   "execution_count": 16,
   "metadata": {},
   "outputs": [],
   "source": [
    "#Cambiamos el nombre de estos países para que coincida con el nombre correcto(que tiene Life Expectancy)\n",
    "\n",
    "changeNames = [('Bahamas, The','Bahamas'), ('Cabo Verde', 'Cape Verde'),\n",
    "               ( 'Congo, Dem. Rep.','Democratic Republic of Congo'), ('Congo, Rep.', 'Congo'),\n",
    "               ('Czech Republic','Czechia'), (\"Côte d'Ivoire\",\"Cote d'Ivoire\"), ('Côte d’Ivoire',\"Cote d'Ivoire\"), \n",
    "               (\"Democratic People's Republic of Korea\",'North Korea'), \n",
    "               ('Democratic Republic of the Congo', 'Democratic Republic of Congo'),  ('Ethiopia PDR', 'Ethiopia'), \n",
    "               ('Federated States of Micronesia','Micronesia (country)'), ('Gambia, The', 'Gambia'), \n",
    "               ('Iran (Islamic Republic of)', 'Iran'), ('Iran, Islamic Rep.', 'Iran'), \n",
    "               ('Korea, Dem. People’s Rep.', 'North Korea'), ('Korea, Rep.', 'South Korea'), ('Lao PDR', 'Laos'),\n",
    "               (\"Lao People's Democratic Republic\", 'Laos'), ('Micronesia (Federated States of)', 'Micronesia (country)'),\n",
    "               ('Micronesia, Fed. Sts.', 'Micronesia (country)'), ('Republic of Korea', 'South Korea'),\n",
    "               ('Republic of Moldova', 'Moldova'), ('Russian Federation', 'Russia'), ('Slovak Republic', 'Slovakia'),\n",
    "               ('State of Palestine', 'Palestine'), ('Syrian Arab Republic', 'Syria'), ('The Bahamas', 'Bahamas'), \n",
    "               ('The Gambia', 'Gambia'), ('United Kingdom of Great Britain and Northern Ireland', 'United Kingdom'),\n",
    "               ('United Republic of Tanzania', 'Tanzania'), ('United States of America', 'United States'),\n",
    "               ('Venezuela (Bolivarian Republic of)', 'Venezuela'), ('Venezuela, RB', 'Venezuela'), ('Viet Nam', 'Vietnam'),\n",
    "               ('Yemen, Rep.', 'Yemen')]\n",
    "\n",
    "for dfName in dfs.keys():\n",
    "    for oldName, newName in changeNames:\n",
    "        dfs[dfName].loc[dfs[dfName]['Country'] == oldName, 'Country'] = newName"
   ]
  },
  {
   "cell_type": "code",
   "execution_count": 17,
   "metadata": {},
   "outputs": [
    {
     "name": "stdout",
     "output_type": "stream",
     "text": [
      "With gender:  ['1_LifeExpectancyAtBirth', '8_InfantMortalityRate', '10_Under5MortalityRate', '16_CardiovascularDyingProbability30_70', '17_SuicideRates', '18_AlcoholSubstanceAbuse', '26-1-1_AirPollutionDeathRateStroke', '26-1-2_AirPollutionDeathRateStrokeAgeStandardized', '26-2-1_AirPollutionDeathRateIschaemicHeartDisease', '26-2-2_AirPollutionDeathRateIschaemicHeartDiseaseAgeStandardized', '26-3-1_AirPollutionDeathRateLowerRespiratoryInfections', '26-3-2_AirPollutionDeathRateLowerRespiratoryInfectionsAgeStandardized', '26-4-1_AirPollutionDeathRateChronicObstructivePulmonaryDisease', '26-4-2_AirPollutionDeathRateChronicObstructivePulmonaryDiseaseAgeStandardized', '26-5-1_AirPollutionDeathRateTotal', '26-5-2_AirPollutionDeathRateTotalAgeStandardized', '26-6-1_AirPollutionDeathRateTracheaBronchusLungCancers', '26-6-2_AirPollutionDeathRateTracheaBronchusLungCancersAgeStandardized', '27_MortalityRateUnsafeWash', '28_MortalityRatePoisoning', '29_TobaccoPrevalence', '47-1_PopulationAges0-14', '47-2_PopulationAges15-64', '47-3_PopulationAges65+', '47-4_PopulationAges65-69', '47-5_PopulationAges70-74', '47-6_PopulationAges75-79', '47-7_PopulationAges80+'] \n",
      "\n",
      "Without Gender:  ['6_MaternalMortalityRatio', '7_BirthAttendedBySkilledPersonal', '9_NeonatalMortalityRate', '11_IncedenceOfMalaria', '12_IncedenceOfTuberculosis', '13_HepatitisBsurfaceAntigen', '14_InterventionAgainstNTDs', '19_RoadTrafficDeaths', '20_ReproductiveAgeWomen', '21_AdolescentBirthRate', '22_UniversalHealthCareCoverage', '24-1_Population10PercentageSDGTotal', '24-2_Population10PercentageSDGUrban', '24-3_Population10PercentageSDGRural', '25-1_Population25PercentageSDGTotal', '25-2_Population25PercentageSDGUrban', '25-3_Population25PercentageSDGRural', '30_MedicalDoctors', '31_NursingAndMidwife', '32_Dentists', '33_Pharmacists', '35_BasicDrinkingWaterServices', '36-1_BasicSanitizationServicesTotal', '36-2_BasicSanitizationServicesUrban', '36-3_BasicSanitizationServicesRural', '37-1_SafelySanitizationTotal', '37-2_SafelySanitizationUrban', '37-3_SafelySanitizationRural', '38-1_BasicHandWashingTotal', '38-2_BasicHandWashingUrban', '38-3_BasicHandWashingRural', '39_CleanFuelAndTech', '40_BirthRate', '41_BattleRelatedDeaths', '42_InjuryDeathsPercentage', '43_DeathRate', '44_GDPperCapita', '45-1_PovertyGap1.90', '45-2_PovertyGap3.20', '45-3_PovertyGap5.50', '46_IcomePerCapita', '48_TotalPopulation', '49_GNIperCapita', '50_ConflictAndTerrorismDeaths', '51_HomicideRate', '52_GovernmentExpenditureEducation', '53_GovernmentExpenditureMilitary', '54_GovernmentExpenditureHealth', '55-10_DietCompositionAlcoholicBeverages', '55-1_DietCompositionOther', '55-2_DietCompositionSugar', '55-3_DietCompositionOilsAndFats', '55-4_DietCompositionMeat', '55-5_DietCompositionDairyAndEggs', '55-6_DietCompositionFruitAndVegetables', '55-7_DietCompositionStarchyRoots', '55-8_DietCompositionPulses', '55-9_DietCompositionCerealsAndGrains', '56_VegetableConsumption', '57-10_FruitConsumptionPlantains', '57-11_FruitConsumptionOther', '57-1_FruitConsumptionBananas', '57-2_FruitConsumptionDates', '57-3_FruitConsumptionOtherCitrus', '57-4_FruitConsumptionOrangesAndMandarines', '57-5_FruitConsumptionApples', '57-6_FruitConsumptionLemonsAndLimes', '57-7_FruitConsumptionGrapes', '57-8_FruitConsumptionGrapefruit', '57-9_FruitConsumptionPineapples', '58-1_CerealConsumptionOats', '58-2_CerealConsumptionRye', '58-3_CerealConsumptionBarley', '58-4_CerealConsumptionSorghum', '58-5_CerealConsumptionMaize', '58-6_CerealConsumptionWheat', '58-7_CerealConsumptionRice', '59-1_DietCaloriesAnimalProtein', '59-2_DietCaloriesPlantProtein', '59-3_DietCaloriesFat', '59-4_DietCaloriesCarbohydrates']\n"
     ]
    }
   ],
   "source": [
    "# Separamos en dos listas con los nombres de los DFs que tienen y no tienen Gender para después hacer los merge\n",
    "dfsWithGender = []\n",
    "dfsWithoutGender = []\n",
    "for dfName, df in dfs.items():\n",
    "    if('Gender' in df.columns):\n",
    "        dfsWithGender.append(dfName)\n",
    "    else:\n",
    "        dfsWithoutGender.append(dfName)\n",
    "print('With gender: ', dfsWithGender, '\\n\\nWithout Gender: ', dfsWithoutGender)"
   ]
  },
  {
   "cell_type": "code",
   "execution_count": 36,
   "metadata": {},
   "outputs": [],
   "source": [
    "#Mergeamos por gender a partir de Life Expectancy\n",
    "df_mergedByGender = dfs['1_LifeExpectancyAtBirth']\n",
    "for dfName in dfsWithGender[1:]:\n",
    "    df_mergedByGender = pd.merge(df_mergedByGender, dfs[dfName], \n",
    "                                 on=['Country', 'Year', 'Gender'], how='left').sort_values(['Country', 'Year', 'Gender'])"
   ]
  },
  {
   "cell_type": "code",
   "execution_count": 37,
   "metadata": {},
   "outputs": [],
   "source": [
    "# Mergeamos los que no tienen gender\n",
    "df_mergedWithoutGender = dfs[dfsWithoutGender[0]]\n",
    "for dfName in dfsWithoutGender[1:]:\n",
    "    df_mergedWithoutGender = pd.merge(df_mergedWithoutGender, dfs[dfName], \n",
    "                                      on=['Country', 'Year'], how='outer').sort_values(['Country', 'Year'])"
   ]
  },
  {
   "cell_type": "code",
   "execution_count": 38,
   "metadata": {},
   "outputs": [],
   "source": [
    "# Mergemos ambos merges\n",
    "df_merged = pd.merge(df_mergedByGender, df_mergedWithoutGender, \n",
    "                                      on=['Country', 'Year'], how='left').sort_values(['Country', 'Year', 'Gender'])"
   ]
  },
  {
   "cell_type": "markdown",
   "metadata": {
    "id": "C3glaUumYurh"
   },
   "source": [
    "# Exportar a un CSV"
   ]
  },
  {
   "cell_type": "code",
   "execution_count": 22,
   "metadata": {
    "id": "vo-jf9YaYKfQ"
   },
   "outputs": [],
   "source": [
    "df_merged.to_csv('UnifiedDataset.csv',sep=',', index=False)"
   ]
  }
 ],
 "metadata": {
  "colab": {
   "collapsed_sections": [],
   "name": "TFG 1 - Unión de los conjuntos de Datos.ipynb",
   "provenance": [],
   "toc_visible": true
  },
  "kernelspec": {
   "display_name": "Python 3",
   "language": "python",
   "name": "python3"
  },
  "language_info": {
   "codemirror_mode": {
    "name": "ipython",
    "version": 3
   },
   "file_extension": ".py",
   "mimetype": "text/x-python",
   "name": "python",
   "nbconvert_exporter": "python",
   "pygments_lexer": "ipython3",
   "version": "3.9.2"
  },
  "toc": {
   "base_numbering": 1,
   "nav_menu": {},
   "number_sections": true,
   "sideBar": true,
   "skip_h1_title": false,
   "title_cell": "Table of Contents",
   "title_sidebar": "Contents",
   "toc_cell": false,
   "toc_position": {},
   "toc_section_display": true,
   "toc_window_display": true
  }
 },
 "nbformat": 4,
 "nbformat_minor": 1
}
