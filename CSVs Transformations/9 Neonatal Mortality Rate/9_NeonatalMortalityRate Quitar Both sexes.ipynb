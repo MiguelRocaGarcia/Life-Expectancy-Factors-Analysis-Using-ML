{
 "cells": [
  {
   "cell_type": "markdown",
   "id": "warming-access",
   "metadata": {},
   "source": [
    "**Eliminar la columna Gender de NeonatalMortalityRate puesto que solo tiene el valor \"Both sexes\"**"
   ]
  },
  {
   "cell_type": "code",
   "execution_count": 1,
   "id": "pleased-speaking",
   "metadata": {},
   "outputs": [],
   "source": [
    "import pandas as pd\n",
    "df = pd.read_csv('NeonatalMortalityRate.csv', sep=',')\n",
    "df.drop('Gender',axis=1, inplace=True)\n",
    "df.to_csv('9_NeonatalMortalityRate.csv', sep=',', index=False)"
   ]
  }
 ],
 "metadata": {
  "kernelspec": {
   "display_name": "Python 3",
   "language": "python",
   "name": "python3"
  },
  "language_info": {
   "codemirror_mode": {
    "name": "ipython",
    "version": 3
   },
   "file_extension": ".py",
   "mimetype": "text/x-python",
   "name": "python",
   "nbconvert_exporter": "python",
   "pygments_lexer": "ipython3",
   "version": "3.9.2"
  }
 },
 "nbformat": 4,
 "nbformat_minor": 5
}
