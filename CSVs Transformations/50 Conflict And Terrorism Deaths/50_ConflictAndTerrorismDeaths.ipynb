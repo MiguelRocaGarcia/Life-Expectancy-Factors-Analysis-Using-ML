{
 "cells": [
  {
   "cell_type": "markdown",
   "id": "0692ec48",
   "metadata": {},
   "source": [
    "**Eliminar la columna Code**"
   ]
  },
  {
   "cell_type": "code",
   "execution_count": 2,
   "id": "incorporated-bracelet",
   "metadata": {},
   "outputs": [],
   "source": [
    "#Eliminamos la columna Code\n",
    "import pandas as pd\n",
    "df = pd.read_csv('ConflictAndTerrorismDeaths.csv', sep=',')\n",
    "df.drop(columns=['Code'], inplace=True)"
   ]
  },
  {
   "cell_type": "code",
   "execution_count": 5,
   "id": "completed-being",
   "metadata": {},
   "outputs": [],
   "source": [
    "df.to_csv('50_ConflictAndTerrorismDeaths.csv',index=False)"
   ]
  },
  {
   "cell_type": "code",
   "execution_count": null,
   "id": "bizarre-reputation",
   "metadata": {},
   "outputs": [],
   "source": []
  }
 ],
 "metadata": {
  "kernelspec": {
   "display_name": "Python 3",
   "language": "python",
   "name": "python3"
  },
  "language_info": {
   "codemirror_mode": {
    "name": "ipython",
    "version": 3
   },
   "file_extension": ".py",
   "mimetype": "text/x-python",
   "name": "python",
   "nbconvert_exporter": "python",
   "pygments_lexer": "ipython3",
   "version": "3.8.8"
  },
  "toc": {
   "base_numbering": 1,
   "nav_menu": {},
   "number_sections": true,
   "sideBar": true,
   "skip_h1_title": false,
   "title_cell": "Table of Contents",
   "title_sidebar": "Contents",
   "toc_cell": false,
   "toc_position": {},
   "toc_section_display": true,
   "toc_window_display": true
  }
 },
 "nbformat": 4,
 "nbformat_minor": 5
}
