{
 "cells": [
  {
   "cell_type": "markdown",
   "id": "special-raleigh",
   "metadata": {},
   "source": [
    "**Unimos dos CSV para ampliar el número de datos sobre el factor Birth Attended By Skilled Person. Calculamos la media de los que no sean el mismo valor**"
   ]
  },
  {
   "cell_type": "code",
   "execution_count": 1,
   "id": "radio-nigeria",
   "metadata": {},
   "outputs": [],
   "source": [
    "import pandas as pd\n",
    "import numpy as np"
   ]
  },
  {
   "cell_type": "code",
   "execution_count": 2,
   "id": "north-citizenship",
   "metadata": {},
   "outputs": [],
   "source": [
    "#Cargamos los CSVs en DataFrames\n",
    "df1 = pd.read_csv('7_BirthAttendedBySkilledPersonal1.csv',sep=',')\n",
    "df2 = pd.read_csv('7_BirthAttendedBySkilledPersonal2.csv',sep=',')"
   ]
  },
  {
   "cell_type": "code",
   "execution_count": 3,
   "id": "robust-storage",
   "metadata": {},
   "outputs": [],
   "source": [
    "#Eliminamos columnas innecesarias\n",
    "df1.drop('Indicator', axis=1, inplace=True)\n",
    "df2.drop('Series Name', axis=1, inplace=True)"
   ]
  },
  {
   "cell_type": "code",
   "execution_count": 4,
   "id": "cultural-butterfly",
   "metadata": {},
   "outputs": [],
   "source": [
    "#Cambiamos el tipo de dato de Value y eliminamos los NaN\n",
    "df2['Value'] = pd.to_numeric(df2['Value'], errors='coerce')\n",
    "df2.dropna(inplace=True)"
   ]
  },
  {
   "cell_type": "code",
   "execution_count": 5,
   "id": "thousand-softball",
   "metadata": {},
   "outputs": [],
   "source": [
    "#Cambiamos el nombre de las columnas\n",
    "df1.columns = ['Country Name','Time', 'Value1']"
   ]
  },
  {
   "cell_type": "code",
   "execution_count": 7,
   "id": "capital-jesus",
   "metadata": {},
   "outputs": [],
   "source": [
    "#Cambiamos el nombre de los países para que coincidan\n",
    "\n",
    "changeNames = [('Bahamas, The','Bahamas'), ('Cabo Verde', 'Cape Verde'),\n",
    "               ( 'Congo, Dem. Rep.','Democratic Republic of Congo'), ('Congo, Rep.', 'Congo'),\n",
    "               ('Czech Republic','Czechia'), (\"Côte d'Ivoire\",\"Cote d'Ivoire\"), ('Côte d’Ivoire',\"Cote d'Ivoire\"), \n",
    "               (\"Democratic People's Republic of Korea\",'North Korea'), \n",
    "               ('Democratic Republic of the Congo', 'Democratic Republic of Congo'),  ('Ethiopia PDR', 'Ethiopia'), \n",
    "               ('Federated States of Micronesia','Micronesia (country)'), ('Gambia, The', 'Gambia'), \n",
    "               ('Iran (Islamic Republic of)', 'Iran'), ('Iran, Islamic Rep.', 'Iran'), \n",
    "               ('Korea, Dem. People’s Rep.', 'North Korea'), ('Korea, Rep.', 'South Korea'), ('Lao PDR', 'Laos'),\n",
    "               (\"Lao People's Democratic Republic\", 'Laos'), ('Micronesia (Federated States of)', 'Micronesia (country)'),\n",
    "               ('Micronesia, Fed. Sts.', 'Micronesia (country)'), ('Republic of Korea', 'South Korea'),\n",
    "               ('Republic of Moldova', 'Moldova'), ('Russian Federation', 'Russia'), ('Slovak Republic', 'Slovakia'),\n",
    "               ('State of Palestine', 'Palestine'), ('Syrian Arab Republic', 'Syria'), ('The Bahamas', 'Bahamas'), \n",
    "               ('The Gambia', 'Gambia'), ('United Kingdom of Great Britain and Northern Ireland', 'United Kingdom'),\n",
    "               ('United Republic of Tanzania', 'Tanzania'), ('United States of America', 'United States'),\n",
    "               ('Venezuela (Bolivarian Republic of)', 'Venezuela'), ('Venezuela, RB', 'Venezuela'), ('Viet Nam', 'Vietnam'),\n",
    "               ('Yemen, Rep.', 'Yemen')]\n",
    "\n",
    "for df in [df1,df2]:\n",
    "    for oldName, newName in changeNames:\n",
    "        df.loc[df['Country Name'] == oldName, 'Country Name'] = newName"
   ]
  },
  {
   "cell_type": "code",
   "execution_count": 8,
   "id": "wicked-improvement",
   "metadata": {},
   "outputs": [
    {
     "data": {
      "text/plain": [
       "{'Andorra',\n",
       " 'Bolivia (Plurinational State of)',\n",
       " 'Cook Islands',\n",
       " 'Egypt',\n",
       " 'Greece',\n",
       " 'Kyrgyzstan',\n",
       " 'Niue',\n",
       " 'Palestine',\n",
       " 'Saint Kitts and Nevis',\n",
       " 'Saint Lucia',\n",
       " 'Saint Vincent and the Grenadines',\n",
       " 'Sudan (until 2011)',\n",
       " 'The former Yugoslav Republic of Macedonia'}"
      ]
     },
     "execution_count": 8,
     "metadata": {},
     "output_type": "execute_result"
    }
   ],
   "source": [
    "#Vemos los países que difieren en ambos dataframes\n",
    "set(df1['Country Name'].unique()).difference(set(df2['Country Name'].unique()))"
   ]
  },
  {
   "cell_type": "code",
   "execution_count": 9,
   "id": "fifteen-investigation",
   "metadata": {},
   "outputs": [],
   "source": [
    "#Mergeamos ambos DFs\n",
    "df_completo = pd.merge(df1, df2, on=['Country Name', 'Time'], how='outer')\n",
    "df_completo.insert(0, 'Series Name', 'Births attended by skilled health personnel (%)')\n",
    "df_completo = df_completo.sort_values(['Country Name', 'Time']).reset_index(drop=True)"
   ]
  },
  {
   "cell_type": "code",
   "execution_count": 10,
   "id": "formal-lawyer",
   "metadata": {
    "scrolled": true
   },
   "outputs": [
    {
     "name": "stderr",
     "output_type": "stream",
     "text": [
      "<ipython-input-10-17c893d8415a>:8: SettingWithCopyWarning: \n",
      "A value is trying to be set on a copy of a slice from a DataFrame\n",
      "\n",
      "See the caveats in the documentation: https://pandas.pydata.org/pandas-docs/stable/user_guide/indexing.html#returning-a-view-versus-a-copy\n",
      "  df_completo['Value_mean'][i] = df_completo['Value'][i]\n",
      "<ipython-input-10-17c893d8415a>:10: SettingWithCopyWarning: \n",
      "A value is trying to be set on a copy of a slice from a DataFrame\n",
      "\n",
      "See the caveats in the documentation: https://pandas.pydata.org/pandas-docs/stable/user_guide/indexing.html#returning-a-view-versus-a-copy\n",
      "  df_completo['Value_mean'][i] = (df_completo['Value'][i] + df_completo['Value1'][i]) / 2\n",
      "<ipython-input-10-17c893d8415a>:6: SettingWithCopyWarning: \n",
      "A value is trying to be set on a copy of a slice from a DataFrame\n",
      "\n",
      "See the caveats in the documentation: https://pandas.pydata.org/pandas-docs/stable/user_guide/indexing.html#returning-a-view-versus-a-copy\n",
      "  df_completo['Value_mean'][i] = df_completo['Value1'][i]\n"
     ]
    }
   ],
   "source": [
    "#Unimos en una columna los valores y calculamos el valor medio de aquellos que difieran\n",
    "df_completo['Value_mean'] = np.nan\n",
    "listaDiff = []\n",
    "for i in range(len(df_completo)):\n",
    "    if(np.isnan(df_completo['Value'][i])):\n",
    "        df_completo['Value_mean'][i] = df_completo['Value1'][i]\n",
    "    elif(np.isnan(df_completo['Value1'][i])):\n",
    "        df_completo['Value_mean'][i] = df_completo['Value'][i]\n",
    "    else:\n",
    "        df_completo['Value_mean'][i] = (df_completo['Value'][i] + df_completo['Value1'][i]) / 2\n",
    "        if(df_completo['Value'][i] - df_completo['Value1'][i] != 0):\n",
    "            listaDiff.append(abs(df_completo['Value'][i] - df_completo['Value1'][i]))"
   ]
  },
  {
   "cell_type": "code",
   "execution_count": 11,
   "id": "cultural-currency",
   "metadata": {},
   "outputs": [
    {
     "name": "stdout",
     "output_type": "stream",
     "text": [
      "Número de valores que difieren:  180\n"
     ]
    },
    {
     "data": {
      "text/plain": [
       "[0.5999999999999943,\n",
       " 3.0,\n",
       " 0.030000000000001137,\n",
       " 0.04000000000000625,\n",
       " 0.04000000000000625,\n",
       " 1.7999999999999972,\n",
       " 8.0,\n",
       " 7.200000000000003,\n",
       " 2.5,\n",
       " 0.30000000000001137,\n",
       " 1.7000000000000028,\n",
       " 2.5,\n",
       " 0.20000000000000284,\n",
       " 9.100000000000001,\n",
       " 0.09999999999999432,\n",
       " 0.09999999999999432,\n",
       " 0.20000000000000284,\n",
       " 1.5999999999999943,\n",
       " 3.8999999999999915,\n",
       " 1.1000000000000085,\n",
       " 2.3999999999999915,\n",
       " 6.400000000000006,\n",
       " 0.10000000000000853,\n",
       " 0.10000000000000853,\n",
       " 0.5,\n",
       " 1.2000000000000028,\n",
       " 1.5999999999999943,\n",
       " 0.10000000000000853,\n",
       " 0.29999999999999716,\n",
       " 0.19999999999998863,\n",
       " 0.19999999999998863,\n",
       " 0.19999999999998863,\n",
       " 0.10000000000000853,\n",
       " 0.10000000000000853,\n",
       " 0.10000000000000853,\n",
       " 0.10000000000000853,\n",
       " 0.7000000000000028,\n",
       " 13.0,\n",
       " 1.2000000000000028,\n",
       " 1.5,\n",
       " 1.5999999999999943,\n",
       " 4.100000000000001,\n",
       " 0.04999999999999716,\n",
       " 0.030000000000001137,\n",
       " 0.04999999999999716,\n",
       " 0.030000000000001137,\n",
       " 0.04999999999999716,\n",
       " 6.800000000000011,\n",
       " 4.8999999999999915,\n",
       " 5.700000000000003,\n",
       " 3.1999999999999886,\n",
       " 3.200000000000003,\n",
       " 0.09000000000000341,\n",
       " 0.5,\n",
       " 0.10000000000000853,\n",
       " 0.10000000000000853,\n",
       " 0.10000000000000853,\n",
       " 0.10000000000000853,\n",
       " 0.10000000000000853,\n",
       " 0.10000000000000853,\n",
       " 0.20000000000000284,\n",
       " 0.20000000000000284,\n",
       " 0.30000000000001137,\n",
       " 0.20000000000000284,\n",
       " 0.10000000000000853,\n",
       " 4.0,\n",
       " 4.0,\n",
       " 0.8999999999999915,\n",
       " 0.10000000000000853,\n",
       " 0.10000000000000853,\n",
       " 21.799999999999997,\n",
       " 1.5,\n",
       " 2.0,\n",
       " 2.0999999999999943,\n",
       " 1.7999999999999972,\n",
       " 2.1000000000000085,\n",
       " 1.7999999999999972,\n",
       " 1.3999999999999915,\n",
       " 1.3999999999999915,\n",
       " 1.4000000000000057,\n",
       " 1.5999999999999943,\n",
       " 0.7999999999999972,\n",
       " 0.7999999999999972,\n",
       " 0.5,\n",
       " 0.29999999999999716,\n",
       " 0.20000000000000284,\n",
       " 0.10000000000000853,\n",
       " 0.09999999999999432,\n",
       " 0.29999999999999716,\n",
       " 0.09999999999999432,\n",
       " 0.20000000000000284,\n",
       " 0.29999999999999716,\n",
       " 2.0999999999999943,\n",
       " 0.20000000000000284,\n",
       " 0.10000000000000853,\n",
       " 1.7999999999999972,\n",
       " 0.20000000000000284,\n",
       " 0.10000000000000853,\n",
       " 0.10000000000000853,\n",
       " 0.09999999999999432,\n",
       " 0.09999999999999432,\n",
       " 12.399999999999991,\n",
       " 0.30000000000001137,\n",
       " 0.009999999999990905,\n",
       " 2.3499999999999943,\n",
       " 2.5999999999999943,\n",
       " 0.29999999999999716,\n",
       " 0.5,\n",
       " 0.5999999999999943,\n",
       " 26.700000000000003,\n",
       " 0.009999999999990905,\n",
       " 0.06999999999999318,\n",
       " 1.2000000000000028,\n",
       " 2.1000000000000085,\n",
       " 9.0,\n",
       " 0.8799999999999955,\n",
       " 0.3999999999999915,\n",
       " 2.9000000000000057,\n",
       " 1.7000000000000028,\n",
       " 0.7999999999999972,\n",
       " 1.2999999999999972,\n",
       " 0.9000000000000057,\n",
       " 12.5,\n",
       " 0.29999999999999716,\n",
       " 2.5999999999999943,\n",
       " 1.1000000000000085,\n",
       " 1.0,\n",
       " 0.5,\n",
       " 2.700000000000003,\n",
       " 0.10000000000000142,\n",
       " 0.6000000000000085,\n",
       " 5.6000000000000085,\n",
       " 0.3999999999999915,\n",
       " 10.099999999999994,\n",
       " 0.5,\n",
       " 1.0999999999999943,\n",
       " 0.7999999999999972,\n",
       " 0.3999999999999915,\n",
       " 0.6000000000000085,\n",
       " 0.09999999999999432,\n",
       " 0.09999999999999432,\n",
       " 2.5,\n",
       " 0.7000000000000028,\n",
       " 1.0,\n",
       " 1.0,\n",
       " 0.9000000000000057,\n",
       " 0.6000000000000085,\n",
       " 0.10000000000000853,\n",
       " 1.0,\n",
       " 10.799999999999997,\n",
       " 1.5,\n",
       " 0.030000000000001137,\n",
       " 0.030000000000001137,\n",
       " 0.04000000000000625,\n",
       " 0.010000000000005116,\n",
       " 0.010000000000005116,\n",
       " 0.01999999999999602,\n",
       " 0.01999999999999602,\n",
       " 0.010000000000005116,\n",
       " 0.01999999999999602,\n",
       " 0.009999999999990905,\n",
       " 0.20000000000000284,\n",
       " 0.5,\n",
       " 0.20000000000000284,\n",
       " 10.0,\n",
       " 1.8999999999999915,\n",
       " 0.5999999999999943,\n",
       " 3.0,\n",
       " 0.29999999999999716,\n",
       " 0.5,\n",
       " 0.7000000000000028,\n",
       " 2.6999999999999886,\n",
       " 0.09999999999999432,\n",
       " 0.20000000000000284,\n",
       " 0.4000000000000057,\n",
       " 1.7000000000000028,\n",
       " 0.30000000000001137,\n",
       " 0.29999999999999716,\n",
       " 2.0,\n",
       " 3.0999999999999943]"
      ]
     },
     "execution_count": 11,
     "metadata": {},
     "output_type": "execute_result"
    }
   ],
   "source": [
    "#Vemos la diferencia entre los valores que no coinciden(151 valores)\n",
    "print('Número de valores que difieren: ', len(listaDiff))\n",
    "listaDiff"
   ]
  },
  {
   "cell_type": "code",
   "execution_count": 12,
   "id": "collected-northern",
   "metadata": {},
   "outputs": [],
   "source": [
    "#Eliminar columnas innecesarias y cambiar nombre\n",
    "df_completo.drop(['Value1', 'Value'], axis=1, inplace=True)\n",
    "df_completo.columns = ['Indicator', 'Country', 'Year', 'Value']"
   ]
  },
  {
   "cell_type": "code",
   "execution_count": 13,
   "id": "sonic-carol",
   "metadata": {},
   "outputs": [],
   "source": [
    "#Lo almacenamos en un CSV\n",
    "df_completo.to_csv('7_BirthAttendedBySkilledPersonal.csv',sep=',', index=False)"
   ]
  }
 ],
 "metadata": {
  "kernelspec": {
   "display_name": "Python 3",
   "language": "python",
   "name": "python3"
  },
  "language_info": {
   "codemirror_mode": {
    "name": "ipython",
    "version": 3
   },
   "file_extension": ".py",
   "mimetype": "text/x-python",
   "name": "python",
   "nbconvert_exporter": "python",
   "pygments_lexer": "ipython3",
   "version": "3.8.8"
  },
  "toc": {
   "base_numbering": 1,
   "nav_menu": {},
   "number_sections": true,
   "sideBar": true,
   "skip_h1_title": false,
   "title_cell": "Table of Contents",
   "title_sidebar": "Contents",
   "toc_cell": false,
   "toc_position": {},
   "toc_section_display": true,
   "toc_window_display": true
  }
 },
 "nbformat": 4,
 "nbformat_minor": 5
}
