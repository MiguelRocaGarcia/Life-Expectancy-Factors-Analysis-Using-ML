{
 "cells": [
  {
   "cell_type": "markdown",
   "id": "alternative-bridal",
   "metadata": {},
   "source": [
    "**Cambiar formato en 16_CardiovascularDisease de columnas por género a columna con el género**"
   ]
  },
  {
   "cell_type": "code",
   "execution_count": 1,
   "id": "empirical-spell",
   "metadata": {},
   "outputs": [],
   "source": [
    "import pandas as pd\n",
    "#Cargamos el CSV en un DataFrame\n",
    "df = pd.read_csv('16_CardiovascularDyingProbability30_70 - Completo.csv', sep=',')"
   ]
  },
  {
   "cell_type": "code",
   "execution_count": 2,
   "id": "micro-bridal",
   "metadata": {},
   "outputs": [],
   "source": [
    "#Creamos un DF para cada género y ambos\n",
    "df1 = df[['Country', 'Year', 'Both sexes']]\n",
    "df2 = df[['Country', 'Year', 'Male']]\n",
    "df3 = df[['Country', 'Year', 'Female']]"
   ]
  },
  {
   "cell_type": "code",
   "execution_count": 3,
   "id": "built-environment",
   "metadata": {},
   "outputs": [],
   "source": [
    "#Insertamos en una columna nueva el género correspondiente a cada DF y cambiamos el nombre a las columnas\n",
    "df1.insert(2, 'Gender', 'Both sexes')\n",
    "df1.columns = ['Country Name', 'Time', 'Gender', 'Value']\n",
    "df2.insert(2, 'Gender', 'Male')\n",
    "df2.columns = ['Country Name', 'Time', 'Gender', 'Value']\n",
    "df3.insert(2, 'Gender', 'Female')\n",
    "df3.columns = ['Country Name', 'Time', 'Gender', 'Value']"
   ]
  },
  {
   "cell_type": "code",
   "execution_count": 4,
   "id": "political-nitrogen",
   "metadata": {},
   "outputs": [],
   "source": [
    "#Concatenamos y ordenamos los DFs\n",
    "df_def = pd.concat([df1,df2,df3]).sort_values(['Country Name', 'Time', 'Gender'])"
   ]
  },
  {
   "cell_type": "code",
   "execution_count": 5,
   "id": "activated-greeting",
   "metadata": {},
   "outputs": [],
   "source": [
    "#Los guardamos en un CSV\n",
    "df_def.to_csv('16_CardiovascularDyingProbability30_70.csv', sep=',', index=False)"
   ]
  }
 ],
 "metadata": {
  "kernelspec": {
   "display_name": "Python 3",
   "language": "python",
   "name": "python3"
  },
  "language_info": {
   "codemirror_mode": {
    "name": "ipython",
    "version": 3
   },
   "file_extension": ".py",
   "mimetype": "text/x-python",
   "name": "python",
   "nbconvert_exporter": "python",
   "pygments_lexer": "ipython3",
   "version": "3.9.2"
  }
 },
 "nbformat": 4,
 "nbformat_minor": 5
}
