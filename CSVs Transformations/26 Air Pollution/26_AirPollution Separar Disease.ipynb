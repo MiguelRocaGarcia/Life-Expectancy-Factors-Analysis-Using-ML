{
 "cells": [
  {
   "cell_type": "markdown",
   "id": "norwegian-direction",
   "metadata": {},
   "source": [
    "**Separar AirPollution en varios CSVs según su valor de Disease y si es Age-Standarized**"
   ]
  },
  {
   "cell_type": "code",
   "execution_count": 1,
   "id": "distant-narrative",
   "metadata": {},
   "outputs": [],
   "source": [
    "import pandas as pd\n",
    "df = pd.read_csv('AirPollutionDeathRate.csv',sep=',')"
   ]
  },
  {
   "cell_type": "code",
   "execution_count": 2,
   "id": "legal-footwear",
   "metadata": {},
   "outputs": [],
   "source": [
    "diseases = set()\n",
    "for item in df['Disease']:\n",
    "    diseases.add(item)"
   ]
  },
  {
   "cell_type": "code",
   "execution_count": 4,
   "id": "historical-arrangement",
   "metadata": {},
   "outputs": [],
   "source": [
    "#Filtramos y creamos los CSVs\n",
    "i=1\n",
    "for disease in diseases:\n",
    "    df[(df['Disease'] == disease) & (df['Indicator'] == 'Ambient and household air pollution attributable death rate (per 100 000 population)')].drop('Disease',axis=1).to_csv(f'26-{i}-1_AirPollutionDeathRate{disease.replace(\" \", \"\")}.csv', sep=',', index=False)\n",
    "    df[(df['Disease'] == disease) & (df['Indicator'] == 'Ambient and household air pollution attributable death rate (per 100 000 population, age-standardized)')].drop('Disease',axis=1).to_csv(f'26-{i}-2_AirPollutionDeathRate{disease.replace(\" \", \"\")}AgeStandardized.csv', sep=',', index=False)\n",
    "    i+=1"
   ]
  }
 ],
 "metadata": {
  "kernelspec": {
   "display_name": "Python 3",
   "language": "python",
   "name": "python3"
  },
  "language_info": {
   "codemirror_mode": {
    "name": "ipython",
    "version": 3
   },
   "file_extension": ".py",
   "mimetype": "text/x-python",
   "name": "python",
   "nbconvert_exporter": "python",
   "pygments_lexer": "ipython3",
   "version": "3.9.2"
  }
 },
 "nbformat": 4,
 "nbformat_minor": 5
}
