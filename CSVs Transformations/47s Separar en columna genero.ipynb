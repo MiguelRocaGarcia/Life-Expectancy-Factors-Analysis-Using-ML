{
 "cells": [
  {
   "cell_type": "code",
   "execution_count": 10,
   "id": "tamil-great",
   "metadata": {},
   "outputs": [],
   "source": [
    "import pandas as pd\n",
    "#importar csvs\n",
    "dfs = {}\n",
    "dfs['47-1_PopulationAges0-14'] = pd.read_csv('47-1_PopulationAges0-14.csv', sep=',')\n",
    "dfs['47-2_PopulationAges15-64'] = pd.read_csv('47-2_PopulationAges15-64.csv', sep=',')\n",
    "dfs['47-3_PopulationAges65+'] = pd.read_csv('47-3_PopulationAges65+.csv', sep=',')\n",
    "dfs['47-4_PopulationAges65-69'] = pd.read_csv('47-4_PopulationAges65-69.csv', sep=',')\n",
    "dfs['47-5_PopulationAges70-74'] = pd.read_csv('47-5_PopulationAges70-74.csv', sep=',')\n",
    "dfs['47-6_PopulationAges75-79'] = pd.read_csv('47-6_PopulationAges75-79.csv', sep=',')\n",
    "dfs['47-7_PopulationAges80+'] = pd.read_csv('47-7_PopulationAges80+.csv', sep=',')"
   ]
  },
  {
   "cell_type": "code",
   "execution_count": 11,
   "id": "functional-ticket",
   "metadata": {},
   "outputs": [],
   "source": [
    "#Separar por género\n",
    "for dfName in dfs.keys():\n",
    "    dfs[dfName].insert(3, 'Gender', dfs[dfName]['Indicator'].apply(lambda x: 'Female' if 'female' in x\n",
    "                                               else ('Male' if ' male' in x\n",
    "                                                     else ('Both sexes'))))\n",
    "    dfs[dfName].drop('Indicator', axis=1, inplace=True) #Eliminamos la columna del indicador\n",
    "    dfs[dfName] = dfs[dfName].sort_values(['Country', 'Year', 'Gender']) #Ordenamos\n",
    "    dfs[dfName].to_csv(f'{dfName}.csv', sep=',', index=False) #A csv"
   ]
  },
  {
   "cell_type": "code",
   "execution_count": null,
   "id": "conscious-marina",
   "metadata": {},
   "outputs": [],
   "source": []
  }
 ],
 "metadata": {
  "kernelspec": {
   "display_name": "Python 3",
   "language": "python",
   "name": "python3"
  },
  "language_info": {
   "codemirror_mode": {
    "name": "ipython",
    "version": 3
   },
   "file_extension": ".py",
   "mimetype": "text/x-python",
   "name": "python",
   "nbconvert_exporter": "python",
   "pygments_lexer": "ipython3",
   "version": "3.9.2"
  }
 },
 "nbformat": 4,
 "nbformat_minor": 5
}
