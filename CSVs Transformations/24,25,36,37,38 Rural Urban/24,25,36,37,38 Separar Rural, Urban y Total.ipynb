{
 "cells": [
  {
   "cell_type": "markdown",
   "id": "other-extraction",
   "metadata": {},
   "source": [
    "**Separar los CSV en varios según sus valores Rural, Urban y Total**"
   ]
  },
  {
   "cell_type": "code",
   "execution_count": 1,
   "id": "sunrise-valley",
   "metadata": {},
   "outputs": [],
   "source": [
    "import pandas as pd\n",
    "dfs = {}\n",
    "dfs['BasicSanitizationServices'] = pd.read_csv('BasicSanitizationServices.csv',sep=',')\n",
    "dfs['SafelySanitization'] = pd.read_csv('SafelySanitization.csv',sep=',')\n",
    "dfs['BasicHandWashing'] = pd.read_csv('BasicHandWashing.csv',sep=',')\n",
    "\n",
    "\n",
    "i = 1\n",
    "for name,df in dfs.items():\n",
    "    df[df['Area'] == 'Total'].drop('Area',axis=1).to_csv(f'{i+35}-1_{name}Total.csv', sep=',', index=False)\n",
    "    df[df['Area'] == 'Urban'].drop('Area',axis=1).to_csv(f'{i+35}-2_{name}Urban.csv', sep=',', index=False)\n",
    "    df[df['Area'] == 'Rural'].drop('Area',axis=1).to_csv(f'{i+35}-3_{name}Rural.csv', sep=',', index=False)\n",
    "    i+=1\n"
   ]
  },
  {
   "cell_type": "code",
   "execution_count": 2,
   "id": "circular-stroke",
   "metadata": {},
   "outputs": [
    {
     "name": "stdout",
     "output_type": "stream",
     "text": [
      "\"36-1_BasicSanitizationServicesTotal\":,\n",
      "\"36-2_BasicSanitizationServicesUrban\":,\n",
      "\"36-3_BasicSanitizationServicesRural\":,\n",
      "\"37-1_SafelySanitizationTotal\":,\n",
      "\"37-2_SafelySanitizationUrban\":,\n",
      "\"37-3_SafelySanitizationRural\":,\n",
      "\"38-1_BasicHandWashingTotal\":,\n",
      "\"38-2_BasicHandWashingUrban\":,\n",
      "\"38-3_BasicHandWashingRural\":,\n"
     ]
    }
   ],
   "source": [
    "i = 1\n",
    "for name,df in dfs.items():\n",
    "    print(f'\"{i+35}-1_{name}Total\":,')\n",
    "    print(f'\"{i+35}-2_{name}Urban\":,')\n",
    "    print(f'\"{i+35}-3_{name}Rural\":,')\n",
    "    i+=1"
   ]
  },
  {
   "cell_type": "code",
   "execution_count": 3,
   "id": "olive-wound",
   "metadata": {},
   "outputs": [],
   "source": [
    "import pandas as pd\n",
    "dfs = {}\n",
    "dfs['Population10PercentageSDG'] = pd.read_csv('Population10PercentageSDG.csv',sep=',')\n",
    "dfs['Population25PercentageSDG'] = pd.read_csv('Population25PercentageSDG.csv',sep=',')\n",
    "\n",
    "i = 1\n",
    "for name,df in dfs.items():\n",
    "    df[df['Area'] == 'Total'].drop('Area',axis=1).to_csv(f'{i+23}-1_{name}Total.csv', sep=',', index=False)\n",
    "    df[df['Area'] == 'Urban'].drop('Area',axis=1).to_csv(f'{i+23}-2_{name}Urban.csv', sep=',', index=False)\n",
    "    df[df['Area'] == 'Rural'].drop('Area',axis=1).to_csv(f'{i+23}-3_{name}Rural.csv', sep=',', index=False)\n",
    "    i+=1\n"
   ]
  },
  {
   "cell_type": "code",
   "execution_count": 4,
   "id": "confidential-motion",
   "metadata": {},
   "outputs": [
    {
     "name": "stdout",
     "output_type": "stream",
     "text": [
      "\"24-1_Population10PercentageSDGTotal\":,\n",
      "\"24-2_Population10PercentageSDGUrban\":,\n",
      "\"24-3_Population10PercentageSDGRural\":,\n",
      "\"25-1_Population25PercentageSDGTotal\":,\n",
      "\"25-2_Population25PercentageSDGUrban\":,\n",
      "\"25-3_Population25PercentageSDGRural\":,\n"
     ]
    }
   ],
   "source": [
    "i = 1\n",
    "for name,df in dfs.items():\n",
    "    print(f'\"{i+23}-1_{name}Total\":,')\n",
    "    print(f'\"{i+23}-2_{name}Urban\":,')\n",
    "    print(f'\"{i+23}-3_{name}Rural\":,')\n",
    "    i+=1"
   ]
  }
 ],
 "metadata": {
  "kernelspec": {
   "display_name": "Python 3",
   "language": "python",
   "name": "python3"
  },
  "language_info": {
   "codemirror_mode": {
    "name": "ipython",
    "version": 3
   },
   "file_extension": ".py",
   "mimetype": "text/x-python",
   "name": "python",
   "nbconvert_exporter": "python",
   "pygments_lexer": "ipython3",
   "version": "3.9.2"
  }
 },
 "nbformat": 4,
 "nbformat_minor": 5
}
