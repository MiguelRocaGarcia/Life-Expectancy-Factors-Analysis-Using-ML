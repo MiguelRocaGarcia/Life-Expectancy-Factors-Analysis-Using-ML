{
 "cells": [
  {
   "cell_type": "markdown",
   "id": "eight-tomato",
   "metadata": {},
   "source": [
    "**Unir CSVs de Life Expectancy y crear columna Gender**"
   ]
  },
  {
   "cell_type": "code",
   "execution_count": 1,
   "id": "material-probe",
   "metadata": {},
   "outputs": [],
   "source": [
    "import pandas as pd\n",
    "#Cargamos los archivos CSVs con los datos en DataFrames\n",
    "df_total = pd.read_csv('life-expectancy.csv', sep=',')\n",
    "df_genders = pd.read_csv('life-expectancy-of-women-vs-life-expectancy-of-women.csv', sep=',')\n",
    "\n",
    "#Separamos en un DF por cada género y ambos géneros y filtramos solo las columnas que nos interesan\n",
    "df_total = df_total[['Country', 'Year', 'Value']]\n",
    "df_male = df_genders[['Country', 'Year', 'Value Male']]\n",
    "df_female = df_genders[['Country', 'Year', 'Value Female']]"
   ]
  },
  {
   "cell_type": "code",
   "execution_count": 2,
   "id": "corresponding-rings",
   "metadata": {},
   "outputs": [],
   "source": [
    "#Creamos una columna en cada DF para el género\n",
    "df_total.insert(2, 'Gender', 'Both sexes')\n",
    "df_male.insert(2, 'Gender', 'Male')\n",
    "df_female.insert(2, 'Gender', 'Female')"
   ]
  },
  {
   "cell_type": "code",
   "execution_count": 3,
   "id": "assumed-activity",
   "metadata": {
    "scrolled": true
   },
   "outputs": [
    {
     "name": "stderr",
     "output_type": "stream",
     "text": [
      "c:\\users\\migue\\appdata\\local\\programs\\python\\python39\\lib\\site-packages\\pandas\\core\\frame.py:4441: SettingWithCopyWarning: \n",
      "A value is trying to be set on a copy of a slice from a DataFrame\n",
      "\n",
      "See the caveats in the documentation: https://pandas.pydata.org/pandas-docs/stable/user_guide/indexing.html#returning-a-view-versus-a-copy\n",
      "  return super().rename(\n"
     ]
    }
   ],
   "source": [
    "#Renombramos las columnas\n",
    "df_male.rename(columns={'Value Male': 'Value'}, inplace=True)\n",
    "df_female.rename(columns={'Value Female': 'Value'}, inplace=True)"
   ]
  },
  {
   "cell_type": "code",
   "execution_count": 4,
   "id": "unnecessary-preview",
   "metadata": {},
   "outputs": [],
   "source": [
    "#Concatenamos, ordeanmos y filtramos las filas\n",
    "df = pd.concat([df_total,df_male,df_female]).sort_values(['Country', 'Year', 'Gender'])\n",
    "df = df[(df['Year'] >= 1990) & (df['Year'] <= 2019)]\n",
    "df = df.dropna()"
   ]
  },
  {
   "cell_type": "code",
   "execution_count": 5,
   "id": "skilled-arnold",
   "metadata": {},
   "outputs": [],
   "source": [
    "#Lo almacenamos en un CSV\n",
    "df.to_csv('1_LifeExpectancyAtBirth.csv', sep=',', index=False)"
   ]
  }
 ],
 "metadata": {
  "kernelspec": {
   "display_name": "Python 3",
   "language": "python",
   "name": "python3"
  },
  "language_info": {
   "codemirror_mode": {
    "name": "ipython",
    "version": 3
   },
   "file_extension": ".py",
   "mimetype": "text/x-python",
   "name": "python",
   "nbconvert_exporter": "python",
   "pygments_lexer": "ipython3",
   "version": "3.9.2"
  }
 },
 "nbformat": 4,
 "nbformat_minor": 5
}
