{
 "cells": [
  {
   "cell_type": "code",
   "execution_count": 13,
   "id": "stupid-receipt",
   "metadata": {},
   "outputs": [],
   "source": [
    "import pandas as pd"
   ]
  },
  {
   "cell_type": "code",
   "execution_count": 35,
   "id": "empirical-spell",
   "metadata": {},
   "outputs": [],
   "source": [
    "df = pd.read_csv('16_CardiovascularDyingProbability30_70 - Completo.csv', sep=',')"
   ]
  },
  {
   "cell_type": "code",
   "execution_count": 36,
   "id": "northern-letter",
   "metadata": {},
   "outputs": [
    {
     "data": {
      "text/html": [
       "<div>\n",
       "<style scoped>\n",
       "    .dataframe tbody tr th:only-of-type {\n",
       "        vertical-align: middle;\n",
       "    }\n",
       "\n",
       "    .dataframe tbody tr th {\n",
       "        vertical-align: top;\n",
       "    }\n",
       "\n",
       "    .dataframe thead th {\n",
       "        text-align: right;\n",
       "    }\n",
       "</style>\n",
       "<table border=\"1\" class=\"dataframe\">\n",
       "  <thead>\n",
       "    <tr style=\"text-align: right;\">\n",
       "      <th></th>\n",
       "      <th>Country</th>\n",
       "      <th>Year</th>\n",
       "      <th>Both sexes</th>\n",
       "      <th>Male</th>\n",
       "      <th>Female</th>\n",
       "    </tr>\n",
       "  </thead>\n",
       "  <tbody>\n",
       "    <tr>\n",
       "      <th>0</th>\n",
       "      <td>Afghanistan</td>\n",
       "      <td>2019</td>\n",
       "      <td>35.3 [21.8-49.8]</td>\n",
       "      <td>34.4 [21.9-47.9]</td>\n",
       "      <td>36.2 [21.7-51.6]</td>\n",
       "    </tr>\n",
       "    <tr>\n",
       "      <th>1</th>\n",
       "      <td>Afghanistan</td>\n",
       "      <td>2018</td>\n",
       "      <td>35.4 [21.7-50.1]</td>\n",
       "      <td>34.7 [22.0-48.5]</td>\n",
       "      <td>36.0 [21.4-51.6]</td>\n",
       "    </tr>\n",
       "    <tr>\n",
       "      <th>2</th>\n",
       "      <td>Afghanistan</td>\n",
       "      <td>2017</td>\n",
       "      <td>35.5 [21.7-50.4]</td>\n",
       "      <td>35.0 [22.0-49.1]</td>\n",
       "      <td>35.9 [21.3-51.7]</td>\n",
       "    </tr>\n",
       "    <tr>\n",
       "      <th>3</th>\n",
       "      <td>Afghanistan</td>\n",
       "      <td>2016</td>\n",
       "      <td>35.6 [21.6-50.7]</td>\n",
       "      <td>35.1 [22.0-49.4]</td>\n",
       "      <td>36.0 [21.2-51.9]</td>\n",
       "    </tr>\n",
       "    <tr>\n",
       "      <th>4</th>\n",
       "      <td>Afghanistan</td>\n",
       "      <td>2015</td>\n",
       "      <td>35.6 [21.6-50.8]</td>\n",
       "      <td>35.4 [22.3-49.8]</td>\n",
       "      <td>35.7 [21.0-51.7]</td>\n",
       "    </tr>\n",
       "    <tr>\n",
       "      <th>...</th>\n",
       "      <td>...</td>\n",
       "      <td>...</td>\n",
       "      <td>...</td>\n",
       "      <td>...</td>\n",
       "      <td>...</td>\n",
       "    </tr>\n",
       "    <tr>\n",
       "      <th>3655</th>\n",
       "      <td>Zimbabwe</td>\n",
       "      <td>2004</td>\n",
       "      <td>24.5 [15.7-35.3]</td>\n",
       "      <td>24.6 [16.7-34.7]</td>\n",
       "      <td>24.5 [15.0-35.8]</td>\n",
       "    </tr>\n",
       "    <tr>\n",
       "      <th>3656</th>\n",
       "      <td>Zimbabwe</td>\n",
       "      <td>2003</td>\n",
       "      <td>23.1 [14.7-33.4]</td>\n",
       "      <td>23.5 [15.9-33.3]</td>\n",
       "      <td>22.7 [13.7-33.5]</td>\n",
       "    </tr>\n",
       "    <tr>\n",
       "      <th>3657</th>\n",
       "      <td>Zimbabwe</td>\n",
       "      <td>2002</td>\n",
       "      <td>22.7 [14.4-32.9]</td>\n",
       "      <td>24.1 [16.3-33.9]</td>\n",
       "      <td>21.5 [13.0-32.0]</td>\n",
       "    </tr>\n",
       "    <tr>\n",
       "      <th>3658</th>\n",
       "      <td>Zimbabwe</td>\n",
       "      <td>2001</td>\n",
       "      <td>21.7 [13.8-31.6]</td>\n",
       "      <td>23.6 [16.0-33.2]</td>\n",
       "      <td>20.2 [12.1-30.4]</td>\n",
       "    </tr>\n",
       "    <tr>\n",
       "      <th>3659</th>\n",
       "      <td>Zimbabwe</td>\n",
       "      <td>2000</td>\n",
       "      <td>21.4 [13.6-31.2]</td>\n",
       "      <td>23.3 [15.9-32.8]</td>\n",
       "      <td>19.8 [11.7-29.9]</td>\n",
       "    </tr>\n",
       "  </tbody>\n",
       "</table>\n",
       "<p>3660 rows × 5 columns</p>\n",
       "</div>"
      ],
      "text/plain": [
       "          Country  Year        Both sexes              Male            Female\n",
       "0     Afghanistan  2019  35.3 [21.8-49.8]  34.4 [21.9-47.9]  36.2 [21.7-51.6]\n",
       "1     Afghanistan  2018  35.4 [21.7-50.1]  34.7 [22.0-48.5]  36.0 [21.4-51.6]\n",
       "2     Afghanistan  2017  35.5 [21.7-50.4]  35.0 [22.0-49.1]  35.9 [21.3-51.7]\n",
       "3     Afghanistan  2016  35.6 [21.6-50.7]  35.1 [22.0-49.4]  36.0 [21.2-51.9]\n",
       "4     Afghanistan  2015  35.6 [21.6-50.8]  35.4 [22.3-49.8]  35.7 [21.0-51.7]\n",
       "...           ...   ...               ...               ...               ...\n",
       "3655     Zimbabwe  2004  24.5 [15.7-35.3]  24.6 [16.7-34.7]  24.5 [15.0-35.8]\n",
       "3656     Zimbabwe  2003  23.1 [14.7-33.4]  23.5 [15.9-33.3]  22.7 [13.7-33.5]\n",
       "3657     Zimbabwe  2002  22.7 [14.4-32.9]  24.1 [16.3-33.9]  21.5 [13.0-32.0]\n",
       "3658     Zimbabwe  2001  21.7 [13.8-31.6]  23.6 [16.0-33.2]  20.2 [12.1-30.4]\n",
       "3659     Zimbabwe  2000  21.4 [13.6-31.2]  23.3 [15.9-32.8]  19.8 [11.7-29.9]\n",
       "\n",
       "[3660 rows x 5 columns]"
      ]
     },
     "execution_count": 36,
     "metadata": {},
     "output_type": "execute_result"
    }
   ],
   "source": [
    "df"
   ]
  },
  {
   "cell_type": "code",
   "execution_count": 37,
   "id": "micro-bridal",
   "metadata": {},
   "outputs": [],
   "source": [
    "df1 = df[['Country', 'Year', 'Both sexes']]\n",
    "df2 = df[['Country', 'Year', 'Male']]\n",
    "df3 = df[['Country', 'Year', 'Female']]"
   ]
  },
  {
   "cell_type": "code",
   "execution_count": 38,
   "id": "built-environment",
   "metadata": {},
   "outputs": [],
   "source": [
    "df1.insert(2, 'Gender', 'Both sexes')\n",
    "df1.columns = ['Country Name', 'Time', 'Gender', 'Value']\n",
    "df2.insert(2, 'Gender', 'Male')\n",
    "df2.columns = ['Country Name', 'Time', 'Gender', 'Value']\n",
    "df3.insert(2, 'Gender', 'Female')\n",
    "df3.columns = ['Country Name', 'Time', 'Gender', 'Value']"
   ]
  },
  {
   "cell_type": "code",
   "execution_count": 42,
   "id": "political-nitrogen",
   "metadata": {},
   "outputs": [],
   "source": [
    "df_def = pd.concat([df1,df2,df3]).sort_values(['Country Name', 'Time', 'Gender'])"
   ]
  },
  {
   "cell_type": "code",
   "execution_count": 44,
   "id": "activated-greeting",
   "metadata": {},
   "outputs": [],
   "source": [
    "df_def.to_csv('16_CardiovascularDyingProbability30_70.csv', sep=',', index=False)"
   ]
  },
  {
   "cell_type": "code",
   "execution_count": null,
   "id": "intimate-johnson",
   "metadata": {},
   "outputs": [],
   "source": []
  },
  {
   "cell_type": "code",
   "execution_count": null,
   "id": "civic-journal",
   "metadata": {},
   "outputs": [],
   "source": []
  },
  {
   "cell_type": "code",
   "execution_count": null,
   "id": "governmental-liechtenstein",
   "metadata": {},
   "outputs": [],
   "source": []
  },
  {
   "cell_type": "code",
   "execution_count": null,
   "id": "sufficient-genre",
   "metadata": {},
   "outputs": [],
   "source": []
  }
 ],
 "metadata": {
  "kernelspec": {
   "display_name": "Python 3",
   "language": "python",
   "name": "python3"
  },
  "language_info": {
   "codemirror_mode": {
    "name": "ipython",
    "version": 3
   },
   "file_extension": ".py",
   "mimetype": "text/x-python",
   "name": "python",
   "nbconvert_exporter": "python",
   "pygments_lexer": "ipython3",
   "version": "3.9.2"
  }
 },
 "nbformat": 4,
 "nbformat_minor": 5
}
