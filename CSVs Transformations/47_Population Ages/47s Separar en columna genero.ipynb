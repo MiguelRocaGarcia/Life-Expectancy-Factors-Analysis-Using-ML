{
 "cells": [
  {
   "cell_type": "markdown",
   "id": "handled-creature",
   "metadata": {},
   "source": [
    "**Añadir la columna Gender a los Population Ages**"
   ]
  },
  {
   "cell_type": "code",
   "execution_count": 4,
   "id": "tamil-great",
   "metadata": {},
   "outputs": [],
   "source": [
    "import pandas as pd\n",
    "#importar csvs\n",
    "dfs = {}\n",
    "dfs['PopulationAges0-14'] = pd.read_csv('PopulationAges0-14.csv', sep=',')\n",
    "dfs['PopulationAges15-64'] = pd.read_csv('PopulationAges15-64.csv', sep=',')\n",
    "dfs['PopulationAges65+'] = pd.read_csv('PopulationAges65+.csv', sep=',')\n",
    "dfs['PopulationAges65-69'] = pd.read_csv('PopulationAges65-69.csv', sep=',')\n",
    "dfs['PopulationAges70-74'] = pd.read_csv('PopulationAges70-74.csv', sep=',')\n",
    "dfs['PopulationAges75-79'] = pd.read_csv('PopulationAges75-79.csv', sep=',')\n",
    "dfs['PopulationAges80+'] = pd.read_csv('PopulationAges80+.csv', sep=',')"
   ]
  },
  {
   "cell_type": "code",
   "execution_count": 5,
   "id": "functional-ticket",
   "metadata": {},
   "outputs": [],
   "source": [
    "#Separar por género\n",
    "i=1\n",
    "for dfName in dfs.keys():\n",
    "    dfs[dfName].insert(3, 'Gender', dfs[dfName]['Indicator'].apply(lambda x: 'Female' if 'female' in x\n",
    "                                               else ('Male' if ' male' in x\n",
    "                                                     else ('Both sexes'))))\n",
    "    dfs[dfName].drop('Indicator', axis=1, inplace=True) #Eliminamos la columna del indicador\n",
    "    dfs[dfName] = dfs[dfName].sort_values(['Country', 'Year', 'Gender']) #Ordenamos\n",
    "    dfs[dfName].to_csv(f'47-{i}_{dfName}.csv', sep=',', index=False) #A csv\n",
    "    i+=1"
   ]
  }
 ],
 "metadata": {
  "kernelspec": {
   "display_name": "Python 3",
   "language": "python",
   "name": "python3"
  },
  "language_info": {
   "codemirror_mode": {
    "name": "ipython",
    "version": 3
   },
   "file_extension": ".py",
   "mimetype": "text/x-python",
   "name": "python",
   "nbconvert_exporter": "python",
   "pygments_lexer": "ipython3",
   "version": "3.9.2"
  }
 },
 "nbformat": 4,
 "nbformat_minor": 5
}
