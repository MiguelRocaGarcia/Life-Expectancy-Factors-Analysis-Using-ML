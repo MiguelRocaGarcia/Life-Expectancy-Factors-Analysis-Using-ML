{
 "cells": [
  {
   "cell_type": "markdown",
   "id": "revised-connectivity",
   "metadata": {},
   "source": [
    "Sería curioso hacer un Random Forest con cada año como una clase"
   ]
  },
  {
   "cell_type": "markdown",
   "id": "stainless-acting",
   "metadata": {},
   "source": [
    "Modelos a aplicar:\n",
    "- Regresión lineal\n",
    "- Regresion polinomica???\n",
    "- Elastic-Net\n",
    "- KNN\n",
    "- Random Forrest para Regresion\n",
    "- Red de neuronas mínima\n",
    "- Deep learning con dropout"
   ]
  },
  {
   "cell_type": "markdown",
   "id": "tender-appointment",
   "metadata": {},
   "source": [
    "**TO DO:**\n",
    "- Investigar recomendaciones, pautas y estrategias para un correcto preprocesamiento de un dataset\n",
    "- Investigar todas los modelos de regresión y diferentes aproximaciones que se pueden realizar\n",
    "- Decisión de todos los algoritmos vamos a aplicar\n",
    "- Hacer árbol de decisión para registrar todas las posibles pruebas a realizar\n",
    "- Investigar Power BI y Redes Neurales + Deep Learning"
   ]
  },
  {
   "cell_type": "markdown",
   "id": "personal-things",
   "metadata": {},
   "source": [
    "**Idea**\n",
    "Sería una buena alternativa, contruir una red de neuronas con regularización dropout para que sea capaz de calcular la salida sin ciertos datos de entrada, puediendo así soportar los valores vacíos."
   ]
  },
  {
   "cell_type": "markdown",
   "id": "pretty-electron",
   "metadata": {},
   "source": [
    "**Planificación Calendario**\n",
    "* 27/03 - 18/04 (3 Semanas) -> Análisis y preprocesamiento\n",
    "* 18/04 - 23/05 (5 Semanas) -> Modelos\n",
    "* 23/05 - 13/06 (3 Semanas) -> Análisis de resultados\n",
    "* 13/06 - 20/06 (1 Semana) -> Finiquitar memoria\n",
    "* 20/06 ENTREGA DEL TFG\n",
    "* 20/06 - 30/06 (1-2 semanas) -> Preparar presentación\n",
    "* 30/06 PRESENTACIÓN TFG"
   ]
  },
  {
   "cell_type": "markdown",
   "id": "animated-intent",
   "metadata": {},
   "source": [
    "# Importar Liberías"
   ]
  },
  {
   "cell_type": "code",
   "execution_count": null,
   "id": "exterior-implementation",
   "metadata": {},
   "outputs": [],
   "source": [
    "import pandas as pd\n",
    "import numpy as np\n",
    "import sklearn \n",
    "pd.set_option(\"display.max_columns\", None)\n",
    "import matplotlib.pyplot as plt\n",
    "import seaborn as sns\n",
    "import warnings\n",
    "warnings.filterwarnings(\"ignore\")\n",
    "from sklearn.linear_model import LinearRegression"
   ]
  },
  {
   "cell_type": "markdown",
   "id": "meaning-seafood",
   "metadata": {},
   "source": [
    "# Separación de la variable objetivo"
   ]
  },
  {
   "cell_type": "code",
   "execution_count": null,
   "id": "electric-museum",
   "metadata": {},
   "outputs": [],
   "source": []
  },
  {
   "cell_type": "markdown",
   "id": "hairy-secretary",
   "metadata": {},
   "source": [
    "# División en conjunto de entrenamiento y de test"
   ]
  },
  {
   "cell_type": "code",
   "execution_count": null,
   "id": "silver-christopher",
   "metadata": {},
   "outputs": [],
   "source": []
  },
  {
   "cell_type": "markdown",
   "id": "retained-theology",
   "metadata": {},
   "source": [
    "# Modelos"
   ]
  },
  {
   "cell_type": "markdown",
   "id": "decimal-array",
   "metadata": {},
   "source": [
    "## Regresión Lineal"
   ]
  },
  {
   "cell_type": "code",
   "execution_count": null,
   "id": "every-lexington",
   "metadata": {},
   "outputs": [],
   "source": []
  },
  {
   "cell_type": "code",
   "execution_count": null,
   "id": "grave-alcohol",
   "metadata": {},
   "outputs": [],
   "source": []
  },
  {
   "cell_type": "code",
   "execution_count": null,
   "id": "interracial-chemistry",
   "metadata": {},
   "outputs": [],
   "source": []
  },
  {
   "cell_type": "code",
   "execution_count": null,
   "id": "increasing-portland",
   "metadata": {},
   "outputs": [],
   "source": []
  },
  {
   "cell_type": "code",
   "execution_count": null,
   "id": "pointed-triple",
   "metadata": {},
   "outputs": [],
   "source": []
  }
 ],
 "metadata": {
  "kernelspec": {
   "display_name": "Python 3",
   "language": "python",
   "name": "python3"
  },
  "language_info": {
   "codemirror_mode": {
    "name": "ipython",
    "version": 3
   },
   "file_extension": ".py",
   "mimetype": "text/x-python",
   "name": "python",
   "nbconvert_exporter": "python",
   "pygments_lexer": "ipython3",
   "version": "3.9.2"
  },
  "toc": {
   "base_numbering": 1,
   "nav_menu": {},
   "number_sections": true,
   "sideBar": true,
   "skip_h1_title": false,
   "title_cell": "Table of Contents",
   "title_sidebar": "Contents",
   "toc_cell": false,
   "toc_position": {},
   "toc_section_display": true,
   "toc_window_display": true
  }
 },
 "nbformat": 4,
 "nbformat_minor": 5
}
