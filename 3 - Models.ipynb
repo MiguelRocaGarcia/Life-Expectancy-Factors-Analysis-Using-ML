{
 "cells": [
  {
   "cell_type": "markdown",
   "id": "revised-connectivity",
   "metadata": {},
   "source": [
    "Sería curioso hacer un Random Forest con cada año como una clase"
   ]
  },
  {
   "cell_type": "markdown",
   "id": "stainless-acting",
   "metadata": {},
   "source": [
    "Modelos a aplicar:\n",
    "- Regresión lineal\n",
    "- Regresion polinomica???\n",
    "- Elastic-Net, Lasso o Ridge? He probado Elastic-Net y no mejora nada. No lo incluyo no??\n",
    "- KNN\n",
    "- Random Forrest para Regresion. Investigar Regression-Enhanced Random Forests\n",
    "- SVM Regressor\n",
    "- Red de neuronas mínima\n",
    "- Deep learning con dropout"
   ]
  },
  {
   "cell_type": "markdown",
   "id": "tender-appointment",
   "metadata": {},
   "source": [
    "**TO DO:**\n",
    "- Investigar recomendaciones, pautas y estrategias para un correcto preprocesamiento de un dataset\n",
    "- Investigar todas los modelos de regresión y diferentes aproximaciones que se pueden realizar\n",
    "- Decisión de todos los algoritmos vamos a aplicar\n",
    "- Hacer árbol de decisión para registrar todas las posibles pruebas a realizar\n",
    "- Investigar Power BI y Redes Neurales + Deep Learning"
   ]
  },
  {
   "cell_type": "markdown",
   "id": "personal-things",
   "metadata": {},
   "source": [
    "**Ideas**\n",
    "- Sería una buena alternativa, contruir una red de neuronas con regularización dropout para que sea capaz de calcular la salida sin ciertos datos de entrada, puediendo así soportar los valores vacíos.\n",
    "- Estaría chulo probar a hacer un RandomForrest con clases como cada año o grupo de X años y despues meterselo a un regresor como otra feature a ver si mejora mucho."
   ]
  },
  {
   "cell_type": "markdown",
   "id": "pretty-electron",
   "metadata": {},
   "source": [
    "**Planificación Calendario**\n",
    "* 27/03 - 18/04 (3 Semanas) -> Análisis y preprocesamiento\n",
    "* 18/04 - 23/05 (5 Semanas) -> Modelos\n",
    "* 23/05 - 13/06 (3 Semanas) -> Análisis de resultados\n",
    "* 13/06 - 20/06 (1 Semana) -> Finiquitar memoria\n",
    "* 20/06 ENTREGA DEL TFG\n",
    "* 20/06 - 30/06 (1-2 semanas) -> Preparar presentación\n",
    "* 30/06 PRESENTACIÓN TFG"
   ]
  },
  {
   "cell_type": "markdown",
   "id": "imperial-stuff",
   "metadata": {},
   "source": [
    "**Problemas**\n",
    "- Al dehacer la trnasformación Yeo-Johnson, para valores menores a -2.7 devuelve un NaN."
   ]
  },
  {
   "cell_type": "markdown",
   "id": "saved-windsor",
   "metadata": {},
   "source": [
    "# Importar Liberías"
   ]
  },
  {
   "cell_type": "code",
   "execution_count": 96,
   "id": "exterior-implementation",
   "metadata": {},
   "outputs": [],
   "source": [
    "import pandas as pd\n",
    "import numpy as np\n",
    "import sklearn \n",
    "pd.set_option(\"display.max_columns\", None)\n",
    "import matplotlib.pyplot as plt\n",
    "import seaborn as sns\n",
    "import warnings\n",
    "warnings.filterwarnings(\"ignore\")\n",
    "from sklearn.model_selection import train_test_split\n",
    "from sklearn.linear_model import LinearRegression\n",
    "from sklearn.model_selection import cross_val_score\n",
    "from sklearn.metrics import mean_absolute_error\n",
    "from sklearn.metrics import mean_squared_error\n",
    "from sklearn.metrics import r2_score\n",
    "from sklearn.preprocessing import PowerTransformer\n",
    "from sklearn.model_selection import GridSearchCV\n",
    "from sklearn.linear_model import ElasticNet\n",
    "from sklearn.neighbors import KNeighborsRegressor"
   ]
  },
  {
   "cell_type": "markdown",
   "id": "representative-arcade",
   "metadata": {
    "heading_collapsed": true
   },
   "source": [
    "# Importar dataset"
   ]
  },
  {
   "cell_type": "code",
   "execution_count": 2,
   "id": "peaceful-indiana",
   "metadata": {
    "hidden": true
   },
   "outputs": [],
   "source": [
    "df = pd.read_csv('https://raw.githubusercontent.com/MiguelRocaGarcia/DatasetTFG/master/PreprocessedDataset.csv', sep=',')"
   ]
  },
  {
   "cell_type": "markdown",
   "id": "greenhouse-management",
   "metadata": {
    "heading_collapsed": true
   },
   "source": [
    "# Separación de la variable objetivo"
   ]
  },
  {
   "cell_type": "code",
   "execution_count": 3,
   "id": "electric-museum",
   "metadata": {
    "hidden": true
   },
   "outputs": [],
   "source": [
    "X = df.drop(columns=['Life Expectancy'])\n",
    "y = df['Life Expectancy']"
   ]
  },
  {
   "cell_type": "markdown",
   "id": "selective-feeling",
   "metadata": {
    "heading_collapsed": true
   },
   "source": [
    "# División en conjunto de entrenamiento y de test"
   ]
  },
  {
   "cell_type": "code",
   "execution_count": 70,
   "id": "pressing-venezuela",
   "metadata": {
    "hidden": true
   },
   "outputs": [],
   "source": [
    "X_train, X_test, y_train, y_test = train_test_split(X, y, test_size=0.2, random_state=21)"
   ]
  },
  {
   "cell_type": "markdown",
   "id": "expressed-spokesman",
   "metadata": {},
   "source": [
    "# Modelos"
   ]
  },
  {
   "cell_type": "markdown",
   "id": "liked-router",
   "metadata": {},
   "source": [
    "## Regresión Lineal"
   ]
  },
  {
   "cell_type": "code",
   "execution_count": 71,
   "id": "therapeutic-token",
   "metadata": {},
   "outputs": [
    {
     "data": {
      "text/plain": [
       "PowerTransformer()"
      ]
     },
     "execution_count": 71,
     "metadata": {},
     "output_type": "execute_result"
    }
   ],
   "source": [
    "#Función para deshacer la estandarización y Yeo-Johnson en la variable objetivo\n",
    "df_filled = pd.read_csv('https://raw.githubusercontent.com/MiguelRocaGarcia/DatasetTFG/master/FilledDataset.csv',sep=',')\n",
    "powerInv = PowerTransformer(method='yeo-johnson',standardize=True)\n",
    "powerInv.fit(df_filled['Life Expectancy'].values.reshape(-1,1))"
   ]
  },
  {
   "cell_type": "code",
   "execution_count": 73,
   "id": "juvenile-telling",
   "metadata": {},
   "outputs": [
    {
     "data": {
      "text/plain": [
       "LinearRegression()"
      ]
     },
     "execution_count": 73,
     "metadata": {},
     "output_type": "execute_result"
    }
   ],
   "source": [
    "#Entrenamiento\n",
    "linear = LinearRegression()\n",
    "linear.fit(X_train, y_train) "
   ]
  },
  {
   "cell_type": "code",
   "execution_count": 74,
   "id": "sexual-syndicate",
   "metadata": {},
   "outputs": [],
   "source": [
    "#Predicción en train\n",
    "trainPrediction =  linear.predict(X_train)"
   ]
  },
  {
   "cell_type": "code",
   "execution_count": 75,
   "id": "laden-certificate",
   "metadata": {},
   "outputs": [],
   "source": [
    "#Predicción en test\n",
    "linearPredictions = pd.DataFrame()\n",
    "linearPredictions['Prediction Standarized'] = linear.predict(X_test)\n",
    "linearPredictions['Real Value Standarized'] = y_test.values\n",
    "linearPredictions['Prediction'] = powerInv.inverse_transform(linearPredictions['Prediction Standarized'].values.reshape(-1,1))\n",
    "linearPredictions['Real Value'] = powerInv.inverse_transform(y_test.values.reshape(-1,1))"
   ]
  },
  {
   "cell_type": "code",
   "execution_count": 76,
   "id": "superior-fever",
   "metadata": {
    "scrolled": true
   },
   "outputs": [
    {
     "data": {
      "text/html": [
       "<div>\n",
       "<style scoped>\n",
       "    .dataframe tbody tr th:only-of-type {\n",
       "        vertical-align: middle;\n",
       "    }\n",
       "\n",
       "    .dataframe tbody tr th {\n",
       "        vertical-align: top;\n",
       "    }\n",
       "\n",
       "    .dataframe thead th {\n",
       "        text-align: right;\n",
       "    }\n",
       "</style>\n",
       "<table border=\"1\" class=\"dataframe\">\n",
       "  <thead>\n",
       "    <tr style=\"text-align: right;\">\n",
       "      <th></th>\n",
       "      <th>Prediction Standarized</th>\n",
       "      <th>Real Value Standarized</th>\n",
       "      <th>Prediction</th>\n",
       "      <th>Real Value</th>\n",
       "    </tr>\n",
       "  </thead>\n",
       "  <tbody>\n",
       "    <tr>\n",
       "      <th>1958</th>\n",
       "      <td>-2.901169</td>\n",
       "      <td>-2.467513</td>\n",
       "      <td>NaN</td>\n",
       "      <td>27.8</td>\n",
       "    </tr>\n",
       "  </tbody>\n",
       "</table>\n",
       "</div>"
      ],
      "text/plain": [
       "      Prediction Standarized  Real Value Standarized  Prediction  Real Value\n",
       "1958               -2.901169               -2.467513         NaN        27.8"
      ]
     },
     "execution_count": 76,
     "metadata": {},
     "output_type": "execute_result"
    }
   ],
   "source": [
    "linearPredictions[linearPredictions['Prediction'].isna()]"
   ]
  },
  {
   "cell_type": "code",
   "execution_count": 77,
   "id": "following-species",
   "metadata": {},
   "outputs": [
    {
     "data": {
      "text/plain": [
       "array([[        nan],\n",
       "       [        nan],\n",
       "       [        nan],\n",
       "       [26.07386062],\n",
       "       [42.72305766],\n",
       "       [58.94741026],\n",
       "       [69.47164557],\n",
       "       [77.63139671],\n",
       "       [84.43273049],\n",
       "       [90.33301839]])"
      ]
     },
     "execution_count": 77,
     "metadata": {},
     "output_type": "execute_result"
    }
   ],
   "source": [
    "powerInv.inverse_transform(np.array([-4,-3,-2.7,-2.5,-2,-1,0,1,2,3]).reshape(-1,1))"
   ]
  },
  {
   "cell_type": "code",
   "execution_count": 78,
   "id": "equipped-divorce",
   "metadata": {},
   "outputs": [
    {
     "name": "stdout",
     "output_type": "stream",
     "text": [
      "Regresión Lineal:\n",
      "\n",
      "RMSE Train standarized values:  0.19528517568460563\n",
      "RMSE Test standarized values:  0.20070399942475228\n",
      "RMSE Test absolute values:  2.1139550419065474\n",
      "\n",
      "MAE Train standarized values:  0.13749569775022136\n",
      "MAE Test standarized values:  0.14029030579753546\n",
      "MAE Test absolute values:  1.4239772722193462\n",
      "\n",
      "R2 Train:  0.9620911516203497\n",
      "R2 Test:  0.9587236562999787\n"
     ]
    }
   ],
   "source": [
    "#Error de entrenamiento y de test según diferentes métricas de medida:\n",
    "#Hay que tener en cuenta en los errores de absolute value que se ha quitado algunas fila por ser NaN\n",
    "print(\"Regresión Lineal:\")\n",
    "\n",
    "print(\"\\nRMSE Train standarized values: \", str(mean_squared_error(y_train, trainPrediction, squared = False)))\n",
    "print(\"RMSE Test standarized values: \", str(mean_squared_error(y_test, linearPredictions['Prediction Standarized'], squared = False)))\n",
    "print(\"RMSE Test absolute values: \", str(mean_squared_error(linearPredictions[linearPredictions['Prediction'].notna()]['Real Value'], linearPredictions[linearPredictions['Prediction'].notna()]['Prediction'], squared = False)))\n",
    "\n",
    "print(\"\\nMAE Train standarized values: \", str(mean_absolute_error(y_train, trainPrediction)))\n",
    "print(\"MAE Test standarized values: \", str(mean_absolute_error(y_test, linearPredictions['Prediction Standarized'])))\n",
    "print(\"MAE Test absolute values: \", str(mean_absolute_error(linearPredictions[linearPredictions['Prediction'].notna()]['Real Value'], linearPredictions[linearPredictions['Prediction'].notna()]['Prediction'])))\n",
    "\n",
    "print(\"\\nR2 Train: \", str(r2_score(y_train, trainPrediction)))\n",
    "print(\"R2 Test: \", str(r2_score(y_test, linearPredictions['Prediction Standarized'])))"
   ]
  },
  {
   "cell_type": "code",
   "execution_count": 80,
   "id": "tropical-diary",
   "metadata": {},
   "outputs": [
    {
     "name": "stdout",
     "output_type": "stream",
     "text": [
      "Validación de RMSE de Regresión lineal:  [-0.17813553 -0.30130906 -0.24239742 -0.252925   -0.36050878] \n",
      "Media:  -0.2670551569583631\n",
      "\n",
      "Validación de MAE de Regresión lineal:  [-0.13875265 -0.1920728  -0.16114356 -0.1720119  -0.26658552] \n",
      "Media:  -0.18611328465615445\n",
      "\n",
      "Validación de R2 de Regresión lineal:  [0.96921579 0.91097101 0.93874863 0.93113806 0.87393615] \n",
      "Media:  0.9248019280847931\n",
      "\n",
      "Máximo error de Regresión lineal:  [-0.78570433 -1.5084018  -1.89131461 -1.64132046 -1.34017251] \n",
      "Media:  -1.4333827410368425\n"
     ]
    }
   ],
   "source": [
    "#NO ENTIENDO ESTO. POR QUÉ DA TANTO ERROR PERO CUANDO HAGO CON TEST NO?\n",
    "#Validación Cruzada de Regresión Lineal\n",
    "linear = LinearRegression()\n",
    "linear.fit(X, y) \n",
    "\n",
    "score_RMSE = cross_val_score(linear, X, y, cv=5, scoring= 'neg_root_mean_squared_error')                     \n",
    "score_MAE = cross_val_score(linear, X, y, cv=5, scoring= 'neg_mean_absolute_error')\n",
    "score_R2 = cross_val_score(linear, X, y, cv=5, scoring= 'r2')\n",
    "scores_max_error = cross_val_score(linear, X, y, cv=5, scoring='max_error')\n",
    "\n",
    "print(\"Validación de RMSE de Regresión lineal: \", score_RMSE, \"\\nMedia: \", score_RMSE.mean())\n",
    "print(\"\\nValidación de MAE de Regresión lineal: \", score_MAE, \"\\nMedia: \", score_MAE.mean())\n",
    "print(\"\\nValidación de R2 de Regresión lineal: \", score_R2, \"\\nMedia: \", score_R2.mean())\n",
    "print(\"\\nMáximo error de Regresión lineal: \", scores_max_error, \"\\nMedia: \", scores_max_error.mean())"
   ]
  },
  {
   "cell_type": "code",
   "execution_count": 85,
   "id": "liked-macedonia",
   "metadata": {},
   "outputs": [
    {
     "data": {
      "text/plain": [
       "<AxesSubplot:xlabel='Real Value Standarized', ylabel='Density'>"
      ]
     },
     "execution_count": 85,
     "metadata": {},
     "output_type": "execute_result"
    },
    {
     "data": {
      "image/png": "[encoded data removed]",
      "text/plain": [
       "<Figure size 864x432 with 1 Axes>"
      ]
     },
     "metadata": {
      "needs_background": "light"
     },
     "output_type": "display_data"
    }
   ],
   "source": [
    "#Mostrar distribución de la varibale objetivo real y calculada\n",
    "plt.figure(figsize=(12,6))\n",
    "sns.distplot(linearPredictions['Prediction Standarized'], color='b')\n",
    "sns.distplot(linearPredictions['Real Value Standarized'], color='r')"
   ]
  },
  {
   "cell_type": "markdown",
   "id": "deadly-balance",
   "metadata": {},
   "source": [
    "# KNN"
   ]
  },
  {
   "cell_type": "code",
   "execution_count": 97,
   "id": "reasonable-marble",
   "metadata": {},
   "outputs": [
    {
     "data": {
      "text/plain": [
       "GridSearchCV(cv=5, estimator=KNeighborsRegressor(), n_jobs=-1,\n",
       "             param_grid={'n_neighbors': (2, 5, 10, 25, 50),\n",
       "                         'weights': ('uniform', 'distance')},\n",
       "             return_train_score=True, scoring='neg_root_mean_squared_error')"
      ]
     },
     "execution_count": 97,
     "metadata": {},
     "output_type": "execute_result"
    }
   ],
   "source": [
    "#GridSearch de la regresión KNN para optimizar RMSE\n",
    "grid_KNN_RMSE = GridSearchCV(\n",
    "    KNeighborsRegressor(),\n",
    "    {'n_neighbors': (2,5,10,25,50),\n",
    "     'weights': ('uniform', 'distance')},\n",
    "     scoring='neg_root_mean_squared_error',                              \n",
    "     cv=5,\n",
    "     n_jobs=-1,\n",
    "     return_train_score = True\n",
    ")\n",
    "grid_KNN_RMSE.fit(X_train, y_train)"
   ]
  },
  {
   "cell_type": "code",
   "execution_count": 98,
   "id": "macro-framing",
   "metadata": {},
   "outputs": [
    {
     "data": {
      "text/html": [
       "<div>\n",
       "<style scoped>\n",
       "    .dataframe tbody tr th:only-of-type {\n",
       "        vertical-align: middle;\n",
       "    }\n",
       "\n",
       "    .dataframe tbody tr th {\n",
       "        vertical-align: top;\n",
       "    }\n",
       "\n",
       "    .dataframe thead th {\n",
       "        text-align: right;\n",
       "    }\n",
       "</style>\n",
       "<table border=\"1\" class=\"dataframe\">\n",
       "  <thead>\n",
       "    <tr style=\"text-align: right;\">\n",
       "      <th></th>\n",
       "      <th>param_n_neighbors</th>\n",
       "      <th>param_weights</th>\n",
       "      <th>mean_test_score</th>\n",
       "      <th>std_test_score</th>\n",
       "      <th>mean_train_score</th>\n",
       "      <th>std_train_score</th>\n",
       "    </tr>\n",
       "  </thead>\n",
       "  <tbody>\n",
       "    <tr>\n",
       "      <th>1</th>\n",
       "      <td>2</td>\n",
       "      <td>distance</td>\n",
       "      <td>-0.102050</td>\n",
       "      <td>0.005300</td>\n",
       "      <td>NaN</td>\n",
       "      <td>NaN</td>\n",
       "    </tr>\n",
       "    <tr>\n",
       "      <th>3</th>\n",
       "      <td>5</td>\n",
       "      <td>distance</td>\n",
       "      <td>-0.107589</td>\n",
       "      <td>0.004052</td>\n",
       "      <td>-1.728391e-08</td>\n",
       "      <td>3.598510e-10</td>\n",
       "    </tr>\n",
       "    <tr>\n",
       "      <th>0</th>\n",
       "      <td>2</td>\n",
       "      <td>uniform</td>\n",
       "      <td>-0.108602</td>\n",
       "      <td>0.005754</td>\n",
       "      <td>NaN</td>\n",
       "      <td>NaN</td>\n",
       "    </tr>\n",
       "    <tr>\n",
       "      <th>2</th>\n",
       "      <td>5</td>\n",
       "      <td>uniform</td>\n",
       "      <td>-0.124175</td>\n",
       "      <td>0.004587</td>\n",
       "      <td>NaN</td>\n",
       "      <td>NaN</td>\n",
       "    </tr>\n",
       "    <tr>\n",
       "      <th>5</th>\n",
       "      <td>10</td>\n",
       "      <td>distance</td>\n",
       "      <td>-0.130435</td>\n",
       "      <td>0.004264</td>\n",
       "      <td>-4.089657e-08</td>\n",
       "      <td>2.975364e-10</td>\n",
       "    </tr>\n",
       "    <tr>\n",
       "      <th>4</th>\n",
       "      <td>10</td>\n",
       "      <td>uniform</td>\n",
       "      <td>-0.159230</td>\n",
       "      <td>0.005546</td>\n",
       "      <td>-1.378202e-01</td>\n",
       "      <td>7.291793e-04</td>\n",
       "    </tr>\n",
       "    <tr>\n",
       "      <th>7</th>\n",
       "      <td>25</td>\n",
       "      <td>distance</td>\n",
       "      <td>-0.176803</td>\n",
       "      <td>0.005923</td>\n",
       "      <td>-1.122058e-07</td>\n",
       "      <td>1.555894e-09</td>\n",
       "    </tr>\n",
       "    <tr>\n",
       "      <th>9</th>\n",
       "      <td>50</td>\n",
       "      <td>distance</td>\n",
       "      <td>-0.215650</td>\n",
       "      <td>0.005831</td>\n",
       "      <td>-2.227224e-07</td>\n",
       "      <td>2.805313e-09</td>\n",
       "    </tr>\n",
       "    <tr>\n",
       "      <th>6</th>\n",
       "      <td>25</td>\n",
       "      <td>uniform</td>\n",
       "      <td>-0.218187</td>\n",
       "      <td>0.007464</td>\n",
       "      <td>-2.065676e-01</td>\n",
       "      <td>1.260045e-03</td>\n",
       "    </tr>\n",
       "    <tr>\n",
       "      <th>8</th>\n",
       "      <td>50</td>\n",
       "      <td>uniform</td>\n",
       "      <td>-0.263629</td>\n",
       "      <td>0.006908</td>\n",
       "      <td>-2.567883e-01</td>\n",
       "      <td>1.075339e-03</td>\n",
       "    </tr>\n",
       "  </tbody>\n",
       "</table>\n",
       "</div>"
      ],
      "text/plain": [
       "  param_n_neighbors param_weights  mean_test_score  std_test_score  \\\n",
       "1                 2      distance        -0.102050        0.005300   \n",
       "3                 5      distance        -0.107589        0.004052   \n",
       "0                 2       uniform        -0.108602        0.005754   \n",
       "2                 5       uniform        -0.124175        0.004587   \n",
       "5                10      distance        -0.130435        0.004264   \n",
       "4                10       uniform        -0.159230        0.005546   \n",
       "7                25      distance        -0.176803        0.005923   \n",
       "9                50      distance        -0.215650        0.005831   \n",
       "6                25       uniform        -0.218187        0.007464   \n",
       "8                50       uniform        -0.263629        0.006908   \n",
       "\n",
       "   mean_train_score  std_train_score  \n",
       "1               NaN              NaN  \n",
       "3     -1.728391e-08     3.598510e-10  \n",
       "0               NaN              NaN  \n",
       "2               NaN              NaN  \n",
       "5     -4.089657e-08     2.975364e-10  \n",
       "4     -1.378202e-01     7.291793e-04  \n",
       "7     -1.122058e-07     1.555894e-09  \n",
       "9     -2.227224e-07     2.805313e-09  \n",
       "6     -2.065676e-01     1.260045e-03  \n",
       "8     -2.567883e-01     1.075339e-03  "
      ]
     },
     "execution_count": 98,
     "metadata": {},
     "output_type": "execute_result"
    }
   ],
   "source": [
    "resultados = pd.DataFrame(grid_KNN_RMSE.cv_results_)\n",
    "resultados.filter(regex = '(param.*|mean_t|std_t)')\\\n",
    "    .drop(columns = 'params')\\\n",
    "    .sort_values('mean_test_score', ascending = False)"
   ]
  },
  {
   "cell_type": "code",
   "execution_count": null,
   "id": "dutch-concord",
   "metadata": {},
   "outputs": [],
   "source": [
    "grid_KNN_RMSE = GridSearchCV(\n",
    "    KNeighborsRegressor(),\n",
    "    {'n_neighbors': (2,5,10,25,50),\n",
    "     'weights': ('uniform', 'distance')},\n",
    "     scoring='neg_root_mean_squared_error',                              \n",
    "     cv=5,\n",
    "     n_jobs=-1,\n",
    "     return_train_score = True\n",
    ")\n",
    "grid_KNN_RMSE.fit(X_train, y_train)"
   ]
  },
  {
   "cell_type": "code",
   "execution_count": null,
   "id": "european-mayor",
   "metadata": {},
   "outputs": [],
   "source": []
  },
  {
   "cell_type": "code",
   "execution_count": null,
   "id": "laden-thanksgiving",
   "metadata": {},
   "outputs": [],
   "source": []
  },
  {
   "cell_type": "code",
   "execution_count": null,
   "id": "random-smith",
   "metadata": {},
   "outputs": [],
   "source": []
  },
  {
   "cell_type": "code",
   "execution_count": null,
   "id": "needed-hygiene",
   "metadata": {},
   "outputs": [],
   "source": []
  }
 ],
 "metadata": {
  "kernelspec": {
   "display_name": "Python 3",
   "language": "python",
   "name": "python3"
  },
  "language_info": {
   "codemirror_mode": {
    "name": "ipython",
    "version": 3
   },
   "file_extension": ".py",
   "mimetype": "text/x-python",
   "name": "python",
   "nbconvert_exporter": "python",
   "pygments_lexer": "ipython3",
   "version": "3.9.2"
  },
  "toc": {
   "base_numbering": 1,
   "nav_menu": {},
   "number_sections": true,
   "sideBar": true,
   "skip_h1_title": false,
   "title_cell": "Table of Contents",
   "title_sidebar": "Contents",
   "toc_cell": false,
   "toc_position": {},
   "toc_section_display": true,
   "toc_window_display": true
  }
 },
 "nbformat": 4,
 "nbformat_minor": 5
}
