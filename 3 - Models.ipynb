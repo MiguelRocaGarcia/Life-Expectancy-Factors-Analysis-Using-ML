{
 "cells": [
  {
   "cell_type": "markdown",
   "id": "revised-connectivity",
   "metadata": {},
   "source": [
    "Sería curioso hacer un Random Forest con cada año como una clase"
   ]
  },
  {
   "cell_type": "code",
   "execution_count": null,
   "id": "determined-france",
   "metadata": {},
   "outputs": [],
   "source": []
  },
  {
   "cell_type": "code",
   "execution_count": null,
   "id": "focal-location",
   "metadata": {},
   "outputs": [],
   "source": []
  },
  {
   "cell_type": "code",
   "execution_count": null,
   "id": "coated-battlefield",
   "metadata": {},
   "outputs": [],
   "source": []
  }
 ],
 "metadata": {
  "kernelspec": {
   "display_name": "Python 3",
   "language": "python",
   "name": "python3"
  },
  "language_info": {
   "codemirror_mode": {
    "name": "ipython",
    "version": 3
   },
   "file_extension": ".py",
   "mimetype": "text/x-python",
   "name": "python",
   "nbconvert_exporter": "python",
   "pygments_lexer": "ipython3",
   "version": "3.9.2"
  }
 },
 "nbformat": 4,
 "nbformat_minor": 5
}
